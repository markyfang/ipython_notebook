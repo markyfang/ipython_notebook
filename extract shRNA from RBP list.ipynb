{
 "cells": [
  {
   "cell_type": "code",
   "execution_count": 27,
   "metadata": {
    "collapsed": true
   },
   "outputs": [],
   "source": [
    "import numpy as np\n",
    "import csv\n",
    "import matplotlib.pyplot as plt\n",
    "import scipy\n",
    "import scipy.stats"
   ]
  },
  {
   "cell_type": "code",
   "execution_count": 60,
   "metadata": {
    "collapsed": false
   },
   "outputs": [
    {
     "name": "stdout",
     "output_type": "stream",
     "text": [
      "['Ysh716' 'TRCN0000074869'\n",
      " 'CCGGCCACCCTTGATTTCAATGATACTCGAGTATCATTGAAATCAAGGGTGGTTTTTG'\n",
      " 'NM_014691.2-2310s1c1' 'AQR' '' '1' 'good by plasmid sequencing 07/10/14'\n",
      " '' '' '' '' 'AQR' 'aquarius intron-binding spliceosomal factor'\n",
      " 'P-loop containing nucleoside triphosphate hydrolase (InterPro)' '' ''\n",
      " '           -' '']\n"
     ]
    }
   ],
   "source": [
    "#note that TRC = The RNAi Consortium\n",
    "\n",
    "#obtain list of all Yeo Lab shRNAs\n",
    "with open('/Users/markfang/Dropbox/UCSD Grad work/RNA-Yeo Lab/Metadata/SG project/SG screening metadata/shRNA against RBP/Yeo RBP shRNA library - unmodified.csv', 'rU') as yshfile:\n",
    "    yshcontents = csv.reader(yshfile)\n",
    "    yshmatrix = []\n",
    "    for row in yshcontents:\n",
    "        yshmatrix.append(row)\n",
    "    yshmatrix = np.asarray(yshmatrix)\n",
    "\n",
    "    #yshmatrix = np.reshape(yshmatrix, )\n",
    "#print(yshmatrix)\n",
    "#print(yshmatrix[1][0])\n",
    "#print(yshmatrix[1774][0])\n",
    "    \n",
    "#obtain list of targets\n",
    "with open ('/Users/markfang/Dropbox/UCSD Grad work/RNA-Yeo Lab/Metadata/SG project/SG screening metadata/shRNA against RBP/Lecuyer Lab antiRBP IF Table RBP 3 - unmodified.csv', 'rU') as lefile:\n",
    "    lecontents = csv.reader(lefile)\n",
    "    lematrix = []\n",
    "    #note that first row contains column headers\n",
    "    for row in lecontents:\n",
    "        lematrix.append(row)\n",
    "    lematrix = np.asarray(lematrix)\n",
    "    #lerbps = list()\n",
    "    #for row in lematrix:\n",
    "        #print row[0]\n",
    "        #lerbps.append(row[0])\n",
    "    #lerpbs = lematrix[:, 0]\n",
    "#print(lerbps)\n",
    "#print(lematrix)\n",
    "\n",
    "#print(lerbps)\n",
    "\n",
    "num_genes = yshmatrix.shape[0]\n",
    "#print(num_genes)\n",
    "num_targets = lematrix.shape[0]\n",
    "#print(num_targets)\n",
    "\n",
    "#gene names in column 5 of yshmatrix\n",
    "genename_loc = 4\n",
    "#target names in column 1 of lematrix\n",
    "tarname_loc = 0\n",
    "\n",
    "yshrbps = []\n",
    "\n",
    "for i in range(0, num_targets):\n",
    "    tarname = lematrix[i][tarname_loc]\n",
    "    #print(tarname)\n",
    "    for j in range(0, num_genes):\n",
    "        #print(j)\n",
    "        genename = yshmatrix[j][genename_loc]\n",
    "        #print(genename)\n",
    "        if tarname == genename:\n",
    "            composite_row = np.concatenate((yshmatrix[j], lematrix[i]), axis = 1)\n",
    "            #print(composite_row)\n",
    "            yshrbps.append(composite_row)\n",
    "            #print row[4]\n",
    "            #print row[0]\n",
    "\n",
    "yshrbps = np.asarray(yshrbps)\n",
    "#print(yshrbps)\n",
    "#print(yshrbps[0])\n",
    "num_shrnas = yshrbps.shape[0]\n",
    "#print(num_shrnas)\n",
    "\n",
    "\n",
    "\n",
    "\n",
    "\n",
    "\n",
    "            \n",
    "#with open ('/Users/markfang/Dropbox/UCSD Grad work/RNA-Yeo Lab/Metadata/SG project/SG screening metadata/Yeo RBP shRNAs for Lecuyer IF RBP.csv','w') as yshleoutputfile:\n",
    "    #writer = csv.writer(yshleoutputfile, lineterminator = '\\n')\n",
    "    #writer.writerows(yshrbps)\n"
   ]
  },
  {
   "cell_type": "code",
   "execution_count": 68,
   "metadata": {
    "collapsed": false
   },
   "outputs": [],
   "source": [
    "\n",
    "#obtain list of Stephanie qPCR validated shRNAs\n",
    "with open('/Users/markfang/Dropbox/UCSD Grad work/RNA-Yeo Lab/Metadata/SG project/SG screening metadata/shRNA against RBP/stephanie_qpcr_validated_shrnas.csv', 'rU') as qpcrfile:\n",
    "    qpcrcontents = csv.reader(qpcrfile)\n",
    "    qpcrmatrix = []\n",
    "    for row in qpcrcontents:\n",
    "        qpcrmatrix.append(row)\n",
    "    qpcrmatrix = np.asarray(qpcrmatrix)\n",
    "\n",
    "num_qpcrval = qpcrmatrix.shape[0]\n",
    "\n",
    "#shrna trc number stored in column 2 of yshrbps\n",
    "trc_ysh_loc = 1\n",
    "#shrna trc number stored in column 3 of qpcrmatrix\n",
    "trc_qpcr_loc = 2\n",
    "\n",
    "yshrbps_qpcrval = []\n",
    "pos_val = np.ones(1)\n",
    "#print(pos_val)\n",
    "neg_val = np.zeros(1)\n",
    "flag = 0\n",
    "\n",
    "for i in range(0, num_shrnas):\n",
    "    trc_ysh = yshrbps[i][trc_ysh_loc]\n",
    "    for j in range(0, num_qpcrval):\n",
    "        trc_qpcr = qpcrmatrix[j][trc_qpcr_loc]\n",
    "        if trc_ysh == trc_qpcr:\n",
    "            flag = 1\n",
    "    if flag == 1:\n",
    "        composite_row = np.concatenate((yshrbps[i], pos_val), axis = 1)\n",
    "        yshrbps_qpcrval.append(composite_row)\n",
    "        #print(yshrbps[i][trc_ysh_loc])\n",
    "    else:\n",
    "        composite_row = np.concatenate((yshrbps[i], neg_val), axis = 1)\n",
    "        yshrbps_qpcrval.append(composite_row)\n",
    "    flag = 0\n",
    "        \n",
    "\n",
    "yshrbps_qpcrval = np.asarray(yshrbps_qpcrval)\n",
    "#print(yshrbps_qpcrval)\n",
    "\n",
    "        \n",
    "    "
   ]
  },
  {
   "cell_type": "code",
   "execution_count": 70,
   "metadata": {
    "collapsed": false
   },
   "outputs": [
    {
     "name": "stdout",
     "output_type": "stream",
     "text": [
      "TRCN0000072762\n",
      "TRCN0000164245\n",
      "TRCN0000050500\n",
      "TRCN0000154123\n",
      "TRCN0000062035\n",
      "TRCN0000061769\n",
      "TRCN0000020576\n",
      "TRCN0000039824\n",
      "TRCN0000075149\n",
      "TRCN0000074675\n",
      "TRCN0000144508\n",
      "TRCN0000050581\n",
      "TRCN0000074658\n",
      "TRCN0000275489\n",
      "TRCN0000052001\n",
      "TRCN0000106680\n",
      "TRCN0000049653\n",
      "TRCN0000001142\n"
     ]
    }
   ],
   "source": [
    "#obtain list of LiJun WB validated shRNAs\n",
    "with open('/Users/markfang/Dropbox/UCSD Grad work/RNA-Yeo Lab/Metadata/SG project/SG screening metadata/shRNA against RBP/lijun_wb_validated_shrnas.csv', 'rU') as wbfile:\n",
    "    wbcontents = csv.reader(wbfile)\n",
    "    wbmatrix = []\n",
    "    for row in wbcontents:\n",
    "        wbmatrix.append(row)\n",
    "    wbmatrix = np.asarray(wbmatrix)\n",
    "    \n",
    "num_wbval = wbmatrix.shape[0]\n",
    "\n",
    "#shrna trc number stored in column 2 of yshrbps\n",
    "trc_ysh_loc = 1\n",
    "#shrna trc number stored in column 2 of wbmatrix\n",
    "trc_wb_loc = 1\n",
    "\n",
    "yshrbps_qpcr_wbval = []\n",
    "pos_val = np.ones(1)\n",
    "#print(pos_val)\n",
    "neg_val = np.zeros(1)\n",
    "flag = 0\n",
    "\n",
    "for i in range(0, num_shrnas):\n",
    "    trc_ysh = yshrbps[i][trc_ysh_loc]\n",
    "    for j in range(0, num_wbval):\n",
    "        trc_wb = wbmatrix[j][trc_wb_loc]\n",
    "        if trc_ysh == trc_wb:\n",
    "            flag = 1\n",
    "    if flag == 1:\n",
    "        composite_row = np.concatenate((yshrbps_qpcrval[i], pos_val), axis = 1)\n",
    "        yshrbps_qpcr_wbval.append(composite_row)\n",
    "        print(yshrbps[i][trc_ysh_loc])\n",
    "    else:\n",
    "        composite_row = np.concatenate((yshrbps_qpcrval[i], neg_val), axis = 1)\n",
    "        yshrbps_qpcr_wbval.append(composite_row)\n",
    "    flag = 0\n",
    "        \n",
    "yshrbps_qpcr_wbval = np.asarray(yshrbps_qpcr_wbval)\n",
    "#print(yshrbps_qpcr_wbval)\n",
    "        \n",
    "    "
   ]
  },
  {
   "cell_type": "code",
   "execution_count": 78,
   "metadata": {
    "collapsed": false
   },
   "outputs": [
    {
     "name": "stdout",
     "output_type": "stream",
     "text": [
      "[]\n"
     ]
    }
   ],
   "source": [
    "double_val = []\n",
    "ele_per_row = yshrbps_qpcr_wbval.shape[1]\n",
    "#print(ele_per_row)\n",
    "\n",
    "for i in range(0, num_shrnas):\n",
    "    #print(1)\n",
    "    if yshrbps_qpcr_wbval[i][ele_per_row - 2] == 0.0:\n",
    "        print(1)\n",
    "        if yshrbps_qpcr_wbval[ele_per_row - 1] == 1:\n",
    "            double_val.append(yshrbps_qpcr_wbval[i])\n",
    "\n",
    "print(double_val)"
   ]
  },
  {
   "cell_type": "code",
   "execution_count": null,
   "metadata": {
    "collapsed": true
   },
   "outputs": [],
   "source": []
  }
 ],
 "metadata": {
  "kernelspec": {
   "display_name": "Python 2",
   "language": "python",
   "name": "python2"
  },
  "language_info": {
   "codemirror_mode": {
    "name": "ipython",
    "version": 2
   },
   "file_extension": ".py",
   "mimetype": "text/x-python",
   "name": "python",
   "nbconvert_exporter": "python",
   "pygments_lexer": "ipython2",
   "version": "2.7.10"
  }
 },
 "nbformat": 4,
 "nbformat_minor": 0
}
