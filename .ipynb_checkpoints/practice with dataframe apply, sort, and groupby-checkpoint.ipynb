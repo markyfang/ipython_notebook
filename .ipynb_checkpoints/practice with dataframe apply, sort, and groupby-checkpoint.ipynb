{
 "cells": [
  {
   "cell_type": "code",
   "execution_count": 1,
   "metadata": {
    "collapsed": true
   },
   "outputs": [],
   "source": [
    "import numpy as np\n",
    "import csv\n",
    "import matplotlib.mlab as mlab\n",
    "import matplotlib.pyplot as plt\n",
    "import pylab\n",
    "import scipy\n",
    "import scipy.stats\n",
    "import math\n",
    "import pandas as pd"
   ]
  },
  {
   "cell_type": "code",
   "execution_count": 2,
   "metadata": {
    "collapsed": false
   },
   "outputs": [
    {
     "data": {
      "text/html": [
       "<div style=\"max-height:1000px;max-width:1500px;overflow:auto;\">\n",
       "<table border=\"1\" class=\"dataframe\">\n",
       "  <thead>\n",
       "    <tr style=\"text-align: right;\">\n",
       "      <th></th>\n",
       "      <th>a</th>\n",
       "      <th>b</th>\n",
       "      <th>c</th>\n",
       "      <th>d</th>\n",
       "      <th>e</th>\n",
       "    </tr>\n",
       "  </thead>\n",
       "  <tbody>\n",
       "    <tr>\n",
       "      <th>0</th>\n",
       "      <td>-1.201091</td>\n",
       "      <td>-1.739670</td>\n",
       "      <td> 0.320368</td>\n",
       "      <td>-1.115635</td>\n",
       "      <td> 0</td>\n",
       "    </tr>\n",
       "    <tr>\n",
       "      <th>1</th>\n",
       "      <td>-0.386599</td>\n",
       "      <td> 1.472476</td>\n",
       "      <td>-0.531809</td>\n",
       "      <td> 0.669604</td>\n",
       "      <td> 0</td>\n",
       "    </tr>\n",
       "    <tr>\n",
       "      <th>2</th>\n",
       "      <td> 1.066908</td>\n",
       "      <td>-1.518549</td>\n",
       "      <td> 0.433561</td>\n",
       "      <td>-1.263874</td>\n",
       "      <td> 0</td>\n",
       "    </tr>\n",
       "    <tr>\n",
       "      <th>3</th>\n",
       "      <td>-1.202402</td>\n",
       "      <td>-1.308325</td>\n",
       "      <td> 0.979718</td>\n",
       "      <td>-0.403973</td>\n",
       "      <td> 0</td>\n",
       "    </tr>\n",
       "    <tr>\n",
       "      <th>4</th>\n",
       "      <td> 0.658357</td>\n",
       "      <td> 0.081622</td>\n",
       "      <td> 0.163076</td>\n",
       "      <td>-0.927391</td>\n",
       "      <td> 0</td>\n",
       "    </tr>\n",
       "    <tr>\n",
       "      <th>5</th>\n",
       "      <td> 0.014235</td>\n",
       "      <td> 0.562455</td>\n",
       "      <td>-0.364929</td>\n",
       "      <td>-1.423447</td>\n",
       "      <td> 0</td>\n",
       "    </tr>\n",
       "    <tr>\n",
       "      <th>6</th>\n",
       "      <td>-0.442000</td>\n",
       "      <td> 0.130967</td>\n",
       "      <td> 0.493416</td>\n",
       "      <td> 1.802170</td>\n",
       "      <td> 0</td>\n",
       "    </tr>\n",
       "    <tr>\n",
       "      <th>7</th>\n",
       "      <td> 1.102634</td>\n",
       "      <td> 1.470586</td>\n",
       "      <td>-0.146297</td>\n",
       "      <td> 2.376052</td>\n",
       "      <td> 0</td>\n",
       "    </tr>\n",
       "    <tr>\n",
       "      <th>8</th>\n",
       "      <td> 0.769415</td>\n",
       "      <td> 0.503419</td>\n",
       "      <td> 0.213292</td>\n",
       "      <td>-1.430722</td>\n",
       "      <td> 0</td>\n",
       "    </tr>\n",
       "    <tr>\n",
       "      <th>9</th>\n",
       "      <td> 0.848472</td>\n",
       "      <td>-0.424072</td>\n",
       "      <td>-0.207140</td>\n",
       "      <td>-0.039950</td>\n",
       "      <td> 0</td>\n",
       "    </tr>\n",
       "  </tbody>\n",
       "</table>\n",
       "</div>"
      ],
      "text/plain": [
       "          a         b         c         d  e\n",
       "0 -1.201091 -1.739670  0.320368 -1.115635  0\n",
       "1 -0.386599  1.472476 -0.531809  0.669604  0\n",
       "2  1.066908 -1.518549  0.433561 -1.263874  0\n",
       "3 -1.202402 -1.308325  0.979718 -0.403973  0\n",
       "4  0.658357  0.081622  0.163076 -0.927391  0\n",
       "5  0.014235  0.562455 -0.364929 -1.423447  0\n",
       "6 -0.442000  0.130967  0.493416  1.802170  0\n",
       "7  1.102634  1.470586 -0.146297  2.376052  0\n",
       "8  0.769415  0.503419  0.213292 -1.430722  0\n",
       "9  0.848472 -0.424072 -0.207140 -0.039950  0"
      ]
     },
     "execution_count": 2,
     "metadata": {},
     "output_type": "execute_result"
    }
   ],
   "source": [
    "df1 = pd.DataFrame(np.random.randn(10, 4), columns=['a', 'b', 'c', 'd'])\n",
    "\n",
    "#add new column to a dataframe\n",
    "#df1['e'] = np.random.randn(10)\n",
    "df1['e'] = 0\n",
    "#df1['e'] = np.random.randn(1)\n",
    "\n",
    "\n",
    "df1"
   ]
  },
  {
   "cell_type": "code",
   "execution_count": 3,
   "metadata": {
    "collapsed": false
   },
   "outputs": [
    {
     "name": "stdout",
     "output_type": "stream",
     "text": [
      "10\n"
     ]
    }
   ],
   "source": [
    "print len(df1.index)"
   ]
  },
  {
   "cell_type": "code",
   "execution_count": 4,
   "metadata": {
    "collapsed": false
   },
   "outputs": [
    {
     "data": {
      "text/plain": [
       "(10, 5)"
      ]
     },
     "execution_count": 4,
     "metadata": {},
     "output_type": "execute_result"
    }
   ],
   "source": [
    "df1.shape\n"
   ]
  },
  {
   "cell_type": "code",
   "execution_count": 5,
   "metadata": {
    "collapsed": true
   },
   "outputs": [],
   "source": [
    "df1 = df1.rename(columns = {'a': 'x'})"
   ]
  },
  {
   "cell_type": "code",
   "execution_count": 6,
   "metadata": {
    "collapsed": false
   },
   "outputs": [
    {
     "data": {
      "text/html": [
       "<div style=\"max-height:1000px;max-width:1500px;overflow:auto;\">\n",
       "<table border=\"1\" class=\"dataframe\">\n",
       "  <thead>\n",
       "    <tr style=\"text-align: right;\">\n",
       "      <th></th>\n",
       "      <th>x</th>\n",
       "      <th>b</th>\n",
       "      <th>c</th>\n",
       "      <th>d</th>\n",
       "      <th>e</th>\n",
       "    </tr>\n",
       "  </thead>\n",
       "  <tbody>\n",
       "    <tr>\n",
       "      <th>0</th>\n",
       "      <td>-1.201091</td>\n",
       "      <td>-1.739670</td>\n",
       "      <td> 0.320368</td>\n",
       "      <td>-1.115635</td>\n",
       "      <td> 0</td>\n",
       "    </tr>\n",
       "    <tr>\n",
       "      <th>1</th>\n",
       "      <td>-0.386599</td>\n",
       "      <td> 1.472476</td>\n",
       "      <td>-0.531809</td>\n",
       "      <td> 0.669604</td>\n",
       "      <td> 0</td>\n",
       "    </tr>\n",
       "    <tr>\n",
       "      <th>2</th>\n",
       "      <td> 1.066908</td>\n",
       "      <td>-1.518549</td>\n",
       "      <td> 0.433561</td>\n",
       "      <td>-1.263874</td>\n",
       "      <td> 0</td>\n",
       "    </tr>\n",
       "    <tr>\n",
       "      <th>3</th>\n",
       "      <td>-1.202402</td>\n",
       "      <td>-1.308325</td>\n",
       "      <td> 0.979718</td>\n",
       "      <td>-0.403973</td>\n",
       "      <td> 0</td>\n",
       "    </tr>\n",
       "    <tr>\n",
       "      <th>4</th>\n",
       "      <td> 0.658357</td>\n",
       "      <td> 0.081622</td>\n",
       "      <td> 0.163076</td>\n",
       "      <td>-0.927391</td>\n",
       "      <td> 0</td>\n",
       "    </tr>\n",
       "    <tr>\n",
       "      <th>5</th>\n",
       "      <td> 0.014235</td>\n",
       "      <td> 0.562455</td>\n",
       "      <td>-0.364929</td>\n",
       "      <td>-1.423447</td>\n",
       "      <td> 0</td>\n",
       "    </tr>\n",
       "    <tr>\n",
       "      <th>6</th>\n",
       "      <td>-0.442000</td>\n",
       "      <td> 0.130967</td>\n",
       "      <td> 0.493416</td>\n",
       "      <td> 1.802170</td>\n",
       "      <td> 0</td>\n",
       "    </tr>\n",
       "    <tr>\n",
       "      <th>7</th>\n",
       "      <td> 1.102634</td>\n",
       "      <td> 1.470586</td>\n",
       "      <td>-0.146297</td>\n",
       "      <td> 2.376052</td>\n",
       "      <td> 0</td>\n",
       "    </tr>\n",
       "    <tr>\n",
       "      <th>8</th>\n",
       "      <td> 0.769415</td>\n",
       "      <td> 0.503419</td>\n",
       "      <td> 0.213292</td>\n",
       "      <td>-1.430722</td>\n",
       "      <td> 0</td>\n",
       "    </tr>\n",
       "    <tr>\n",
       "      <th>9</th>\n",
       "      <td> 0.848472</td>\n",
       "      <td>-0.424072</td>\n",
       "      <td>-0.207140</td>\n",
       "      <td>-0.039950</td>\n",
       "      <td> 0</td>\n",
       "    </tr>\n",
       "  </tbody>\n",
       "</table>\n",
       "</div>"
      ],
      "text/plain": [
       "          x         b         c         d  e\n",
       "0 -1.201091 -1.739670  0.320368 -1.115635  0\n",
       "1 -0.386599  1.472476 -0.531809  0.669604  0\n",
       "2  1.066908 -1.518549  0.433561 -1.263874  0\n",
       "3 -1.202402 -1.308325  0.979718 -0.403973  0\n",
       "4  0.658357  0.081622  0.163076 -0.927391  0\n",
       "5  0.014235  0.562455 -0.364929 -1.423447  0\n",
       "6 -0.442000  0.130967  0.493416  1.802170  0\n",
       "7  1.102634  1.470586 -0.146297  2.376052  0\n",
       "8  0.769415  0.503419  0.213292 -1.430722  0\n",
       "9  0.848472 -0.424072 -0.207140 -0.039950  0"
      ]
     },
     "execution_count": 6,
     "metadata": {},
     "output_type": "execute_result"
    }
   ],
   "source": [
    "df1"
   ]
  },
  {
   "cell_type": "code",
   "execution_count": 7,
   "metadata": {
    "collapsed": true
   },
   "outputs": [],
   "source": [
    "df1 = df1.rename(columns = {'x': 'e'})"
   ]
  },
  {
   "cell_type": "code",
   "execution_count": 8,
   "metadata": {
    "collapsed": false
   },
   "outputs": [
    {
     "data": {
      "text/html": [
       "<div style=\"max-height:1000px;max-width:1500px;overflow:auto;\">\n",
       "<table border=\"1\" class=\"dataframe\">\n",
       "  <thead>\n",
       "    <tr style=\"text-align: right;\">\n",
       "      <th></th>\n",
       "      <th>e</th>\n",
       "      <th>b</th>\n",
       "      <th>c</th>\n",
       "      <th>d</th>\n",
       "      <th>e</th>\n",
       "    </tr>\n",
       "  </thead>\n",
       "  <tbody>\n",
       "    <tr>\n",
       "      <th>0</th>\n",
       "      <td>-1.201091</td>\n",
       "      <td>-1.739670</td>\n",
       "      <td> 0.320368</td>\n",
       "      <td>-1.115635</td>\n",
       "      <td> 0</td>\n",
       "    </tr>\n",
       "    <tr>\n",
       "      <th>1</th>\n",
       "      <td>-0.386599</td>\n",
       "      <td> 1.472476</td>\n",
       "      <td>-0.531809</td>\n",
       "      <td> 0.669604</td>\n",
       "      <td> 0</td>\n",
       "    </tr>\n",
       "    <tr>\n",
       "      <th>2</th>\n",
       "      <td> 1.066908</td>\n",
       "      <td>-1.518549</td>\n",
       "      <td> 0.433561</td>\n",
       "      <td>-1.263874</td>\n",
       "      <td> 0</td>\n",
       "    </tr>\n",
       "    <tr>\n",
       "      <th>3</th>\n",
       "      <td>-1.202402</td>\n",
       "      <td>-1.308325</td>\n",
       "      <td> 0.979718</td>\n",
       "      <td>-0.403973</td>\n",
       "      <td> 0</td>\n",
       "    </tr>\n",
       "    <tr>\n",
       "      <th>4</th>\n",
       "      <td> 0.658357</td>\n",
       "      <td> 0.081622</td>\n",
       "      <td> 0.163076</td>\n",
       "      <td>-0.927391</td>\n",
       "      <td> 0</td>\n",
       "    </tr>\n",
       "    <tr>\n",
       "      <th>5</th>\n",
       "      <td> 0.014235</td>\n",
       "      <td> 0.562455</td>\n",
       "      <td>-0.364929</td>\n",
       "      <td>-1.423447</td>\n",
       "      <td> 0</td>\n",
       "    </tr>\n",
       "    <tr>\n",
       "      <th>6</th>\n",
       "      <td>-0.442000</td>\n",
       "      <td> 0.130967</td>\n",
       "      <td> 0.493416</td>\n",
       "      <td> 1.802170</td>\n",
       "      <td> 0</td>\n",
       "    </tr>\n",
       "    <tr>\n",
       "      <th>7</th>\n",
       "      <td> 1.102634</td>\n",
       "      <td> 1.470586</td>\n",
       "      <td>-0.146297</td>\n",
       "      <td> 2.376052</td>\n",
       "      <td> 0</td>\n",
       "    </tr>\n",
       "    <tr>\n",
       "      <th>8</th>\n",
       "      <td> 0.769415</td>\n",
       "      <td> 0.503419</td>\n",
       "      <td> 0.213292</td>\n",
       "      <td>-1.430722</td>\n",
       "      <td> 0</td>\n",
       "    </tr>\n",
       "    <tr>\n",
       "      <th>9</th>\n",
       "      <td> 0.848472</td>\n",
       "      <td>-0.424072</td>\n",
       "      <td>-0.207140</td>\n",
       "      <td>-0.039950</td>\n",
       "      <td> 0</td>\n",
       "    </tr>\n",
       "  </tbody>\n",
       "</table>\n",
       "</div>"
      ],
      "text/plain": [
       "          e         b         c         d  e\n",
       "0 -1.201091 -1.739670  0.320368 -1.115635  0\n",
       "1 -0.386599  1.472476 -0.531809  0.669604  0\n",
       "2  1.066908 -1.518549  0.433561 -1.263874  0\n",
       "3 -1.202402 -1.308325  0.979718 -0.403973  0\n",
       "4  0.658357  0.081622  0.163076 -0.927391  0\n",
       "5  0.014235  0.562455 -0.364929 -1.423447  0\n",
       "6 -0.442000  0.130967  0.493416  1.802170  0\n",
       "7  1.102634  1.470586 -0.146297  2.376052  0\n",
       "8  0.769415  0.503419  0.213292 -1.430722  0\n",
       "9  0.848472 -0.424072 -0.207140 -0.039950  0"
      ]
     },
     "execution_count": 8,
     "metadata": {},
     "output_type": "execute_result"
    }
   ],
   "source": [
    "df1"
   ]
  },
  {
   "cell_type": "code",
   "execution_count": 9,
   "metadata": {
    "collapsed": false
   },
   "outputs": [],
   "source": [
    "def f(x):\n",
    "    #print x['b']\n",
    "    return x['b'] / x['c']\n",
    "\n",
    "\n",
    "df1['f'] = df1.apply(f, axis = 1)"
   ]
  },
  {
   "cell_type": "code",
   "execution_count": 10,
   "metadata": {
    "collapsed": false
   },
   "outputs": [
    {
     "data": {
      "text/html": [
       "<div style=\"max-height:1000px;max-width:1500px;overflow:auto;\">\n",
       "<table border=\"1\" class=\"dataframe\">\n",
       "  <thead>\n",
       "    <tr style=\"text-align: right;\">\n",
       "      <th></th>\n",
       "      <th>e</th>\n",
       "      <th>b</th>\n",
       "      <th>c</th>\n",
       "      <th>d</th>\n",
       "      <th>e</th>\n",
       "      <th>f</th>\n",
       "    </tr>\n",
       "  </thead>\n",
       "  <tbody>\n",
       "    <tr>\n",
       "      <th>0</th>\n",
       "      <td>-1.201091</td>\n",
       "      <td>-1.739670</td>\n",
       "      <td> 0.320368</td>\n",
       "      <td>-1.115635</td>\n",
       "      <td> 0</td>\n",
       "      <td> -5.430230</td>\n",
       "    </tr>\n",
       "    <tr>\n",
       "      <th>1</th>\n",
       "      <td>-0.386599</td>\n",
       "      <td> 1.472476</td>\n",
       "      <td>-0.531809</td>\n",
       "      <td> 0.669604</td>\n",
       "      <td> 0</td>\n",
       "      <td> -2.768806</td>\n",
       "    </tr>\n",
       "    <tr>\n",
       "      <th>2</th>\n",
       "      <td> 1.066908</td>\n",
       "      <td>-1.518549</td>\n",
       "      <td> 0.433561</td>\n",
       "      <td>-1.263874</td>\n",
       "      <td> 0</td>\n",
       "      <td> -3.502507</td>\n",
       "    </tr>\n",
       "    <tr>\n",
       "      <th>3</th>\n",
       "      <td>-1.202402</td>\n",
       "      <td>-1.308325</td>\n",
       "      <td> 0.979718</td>\n",
       "      <td>-0.403973</td>\n",
       "      <td> 0</td>\n",
       "      <td> -1.335409</td>\n",
       "    </tr>\n",
       "    <tr>\n",
       "      <th>4</th>\n",
       "      <td> 0.658357</td>\n",
       "      <td> 0.081622</td>\n",
       "      <td> 0.163076</td>\n",
       "      <td>-0.927391</td>\n",
       "      <td> 0</td>\n",
       "      <td>  0.500517</td>\n",
       "    </tr>\n",
       "    <tr>\n",
       "      <th>5</th>\n",
       "      <td> 0.014235</td>\n",
       "      <td> 0.562455</td>\n",
       "      <td>-0.364929</td>\n",
       "      <td>-1.423447</td>\n",
       "      <td> 0</td>\n",
       "      <td> -1.541270</td>\n",
       "    </tr>\n",
       "    <tr>\n",
       "      <th>6</th>\n",
       "      <td>-0.442000</td>\n",
       "      <td> 0.130967</td>\n",
       "      <td> 0.493416</td>\n",
       "      <td> 1.802170</td>\n",
       "      <td> 0</td>\n",
       "      <td>  0.265429</td>\n",
       "    </tr>\n",
       "    <tr>\n",
       "      <th>7</th>\n",
       "      <td> 1.102634</td>\n",
       "      <td> 1.470586</td>\n",
       "      <td>-0.146297</td>\n",
       "      <td> 2.376052</td>\n",
       "      <td> 0</td>\n",
       "      <td>-10.052028</td>\n",
       "    </tr>\n",
       "    <tr>\n",
       "      <th>8</th>\n",
       "      <td> 0.769415</td>\n",
       "      <td> 0.503419</td>\n",
       "      <td> 0.213292</td>\n",
       "      <td>-1.430722</td>\n",
       "      <td> 0</td>\n",
       "      <td>  2.360235</td>\n",
       "    </tr>\n",
       "    <tr>\n",
       "      <th>9</th>\n",
       "      <td> 0.848472</td>\n",
       "      <td>-0.424072</td>\n",
       "      <td>-0.207140</td>\n",
       "      <td>-0.039950</td>\n",
       "      <td> 0</td>\n",
       "      <td>  2.047276</td>\n",
       "    </tr>\n",
       "  </tbody>\n",
       "</table>\n",
       "</div>"
      ],
      "text/plain": [
       "          e         b         c         d  e          f\n",
       "0 -1.201091 -1.739670  0.320368 -1.115635  0  -5.430230\n",
       "1 -0.386599  1.472476 -0.531809  0.669604  0  -2.768806\n",
       "2  1.066908 -1.518549  0.433561 -1.263874  0  -3.502507\n",
       "3 -1.202402 -1.308325  0.979718 -0.403973  0  -1.335409\n",
       "4  0.658357  0.081622  0.163076 -0.927391  0   0.500517\n",
       "5  0.014235  0.562455 -0.364929 -1.423447  0  -1.541270\n",
       "6 -0.442000  0.130967  0.493416  1.802170  0   0.265429\n",
       "7  1.102634  1.470586 -0.146297  2.376052  0 -10.052028\n",
       "8  0.769415  0.503419  0.213292 -1.430722  0   2.360235\n",
       "9  0.848472 -0.424072 -0.207140 -0.039950  0   2.047276"
      ]
     },
     "execution_count": 10,
     "metadata": {},
     "output_type": "execute_result"
    }
   ],
   "source": [
    "df1"
   ]
  },
  {
   "cell_type": "code",
   "execution_count": 11,
   "metadata": {
    "collapsed": false
   },
   "outputs": [
    {
     "name": "stdout",
     "output_type": "stream",
     "text": [
      "-3.50250729799\n"
     ]
    }
   ],
   "source": [
    "abasdfasdf = 'f'\n",
    "\n",
    "df1['f']\n",
    "#df1[abasdfasdf]\n",
    "#df1.column_name(abasdfasdf)\n",
    "\n",
    "x = df1['f']\n",
    "print x[2]"
   ]
  },
  {
   "cell_type": "code",
   "execution_count": 12,
   "metadata": {
    "collapsed": false
   },
   "outputs": [
    {
     "name": "stdout",
     "output_type": "stream",
     "text": [
      "          e         b         c         d  e          f\n",
      "0 -1.201091 -1.739670  0.320368 -1.115635  0  -5.430230\n",
      "1 -0.386599  1.472476 -0.531809  0.669604  0  -2.768806\n",
      "2  1.066908 -1.518549  0.433561 -1.263874  0  -3.502507\n",
      "3 -1.202402 -1.308325  0.979718 -0.403973  0  -1.335409\n",
      "4  0.658357  0.081622  0.163076 -0.927391  0   0.500517\n",
      "5  0.014235  0.562455 -0.364929 -1.423447  0  -1.541270\n",
      "6 -0.442000  0.130967  0.493416  1.802170  0   0.265429\n",
      "7  1.102634  1.470586 -0.146297  2.376052  0 -10.052028\n",
      "8  0.769415  0.503419  0.213292 -1.430722  0   2.360235\n",
      "9  0.848472 -0.424072 -0.207140 -0.039950  0   2.047276\n",
      "          e         b         c         d  e          f\n",
      "7  1.102634  1.470586 -0.146297  2.376052  0 -10.052028\n",
      "0 -1.201091 -1.739670  0.320368 -1.115635  0  -5.430230\n",
      "2  1.066908 -1.518549  0.433561 -1.263874  0  -3.502507\n",
      "1 -0.386599  1.472476 -0.531809  0.669604  0  -2.768806\n",
      "5  0.014235  0.562455 -0.364929 -1.423447  0  -1.541270\n",
      "3 -1.202402 -1.308325  0.979718 -0.403973  0  -1.335409\n",
      "6 -0.442000  0.130967  0.493416  1.802170  0   0.265429\n",
      "4  0.658357  0.081622  0.163076 -0.927391  0   0.500517\n",
      "9  0.848472 -0.424072 -0.207140 -0.039950  0   2.047276\n",
      "8  0.769415  0.503419  0.213292 -1.430722  0   2.360235\n"
     ]
    }
   ],
   "source": [
    "sorteddf1 = df1.sort(['f'], axis = 0)\n",
    "print df1\n",
    "print sorteddf1"
   ]
  },
  {
   "cell_type": "code",
   "execution_count": 13,
   "metadata": {
    "collapsed": false
   },
   "outputs": [
    {
     "data": {
      "text/html": [
       "<div style=\"max-height:1000px;max-width:1500px;overflow:auto;\">\n",
       "<table border=\"1\" class=\"dataframe\">\n",
       "  <thead>\n",
       "    <tr style=\"text-align: right;\">\n",
       "      <th></th>\n",
       "      <th>e</th>\n",
       "      <th>b</th>\n",
       "      <th>c</th>\n",
       "      <th>d</th>\n",
       "      <th>e</th>\n",
       "      <th>f</th>\n",
       "      <th>g</th>\n",
       "    </tr>\n",
       "  </thead>\n",
       "  <tbody>\n",
       "    <tr>\n",
       "      <th>7</th>\n",
       "      <td> 1.102634</td>\n",
       "      <td> 1.470586</td>\n",
       "      <td>-0.146297</td>\n",
       "      <td> 2.376052</td>\n",
       "      <td> 0</td>\n",
       "      <td>-10.052028</td>\n",
       "      <td> 0</td>\n",
       "    </tr>\n",
       "    <tr>\n",
       "      <th>0</th>\n",
       "      <td>-1.201091</td>\n",
       "      <td>-1.739670</td>\n",
       "      <td> 0.320368</td>\n",
       "      <td>-1.115635</td>\n",
       "      <td> 0</td>\n",
       "      <td> -5.430230</td>\n",
       "      <td> 0</td>\n",
       "    </tr>\n",
       "    <tr>\n",
       "      <th>2</th>\n",
       "      <td> 1.066908</td>\n",
       "      <td>-1.518549</td>\n",
       "      <td> 0.433561</td>\n",
       "      <td>-1.263874</td>\n",
       "      <td> 0</td>\n",
       "      <td> -3.502507</td>\n",
       "      <td> 0</td>\n",
       "    </tr>\n",
       "    <tr>\n",
       "      <th>1</th>\n",
       "      <td>-0.386599</td>\n",
       "      <td> 1.472476</td>\n",
       "      <td>-0.531809</td>\n",
       "      <td> 0.669604</td>\n",
       "      <td> 0</td>\n",
       "      <td> -2.768806</td>\n",
       "      <td> 0</td>\n",
       "    </tr>\n",
       "    <tr>\n",
       "      <th>5</th>\n",
       "      <td> 0.014235</td>\n",
       "      <td> 0.562455</td>\n",
       "      <td>-0.364929</td>\n",
       "      <td>-1.423447</td>\n",
       "      <td> 0</td>\n",
       "      <td> -1.541270</td>\n",
       "      <td> 0</td>\n",
       "    </tr>\n",
       "    <tr>\n",
       "      <th>3</th>\n",
       "      <td>-1.202402</td>\n",
       "      <td>-1.308325</td>\n",
       "      <td> 0.979718</td>\n",
       "      <td>-0.403973</td>\n",
       "      <td> 0</td>\n",
       "      <td> -1.335409</td>\n",
       "      <td> 1</td>\n",
       "    </tr>\n",
       "    <tr>\n",
       "      <th>6</th>\n",
       "      <td>-0.442000</td>\n",
       "      <td> 0.130967</td>\n",
       "      <td> 0.493416</td>\n",
       "      <td> 1.802170</td>\n",
       "      <td> 0</td>\n",
       "      <td>  0.265429</td>\n",
       "      <td> 1</td>\n",
       "    </tr>\n",
       "    <tr>\n",
       "      <th>4</th>\n",
       "      <td> 0.658357</td>\n",
       "      <td> 0.081622</td>\n",
       "      <td> 0.163076</td>\n",
       "      <td>-0.927391</td>\n",
       "      <td> 0</td>\n",
       "      <td>  0.500517</td>\n",
       "      <td> 1</td>\n",
       "    </tr>\n",
       "    <tr>\n",
       "      <th>9</th>\n",
       "      <td> 0.848472</td>\n",
       "      <td>-0.424072</td>\n",
       "      <td>-0.207140</td>\n",
       "      <td>-0.039950</td>\n",
       "      <td> 0</td>\n",
       "      <td>  2.047276</td>\n",
       "      <td> 1</td>\n",
       "    </tr>\n",
       "    <tr>\n",
       "      <th>8</th>\n",
       "      <td> 0.769415</td>\n",
       "      <td> 0.503419</td>\n",
       "      <td> 0.213292</td>\n",
       "      <td>-1.430722</td>\n",
       "      <td> 0</td>\n",
       "      <td>  2.360235</td>\n",
       "      <td> 1</td>\n",
       "    </tr>\n",
       "  </tbody>\n",
       "</table>\n",
       "</div>"
      ],
      "text/plain": [
       "          e         b         c         d  e          f  g\n",
       "7  1.102634  1.470586 -0.146297  2.376052  0 -10.052028  0\n",
       "0 -1.201091 -1.739670  0.320368 -1.115635  0  -5.430230  0\n",
       "2  1.066908 -1.518549  0.433561 -1.263874  0  -3.502507  0\n",
       "1 -0.386599  1.472476 -0.531809  0.669604  0  -2.768806  0\n",
       "5  0.014235  0.562455 -0.364929 -1.423447  0  -1.541270  0\n",
       "3 -1.202402 -1.308325  0.979718 -0.403973  0  -1.335409  1\n",
       "6 -0.442000  0.130967  0.493416  1.802170  0   0.265429  1\n",
       "4  0.658357  0.081622  0.163076 -0.927391  0   0.500517  1\n",
       "9  0.848472 -0.424072 -0.207140 -0.039950  0   2.047276  1\n",
       "8  0.769415  0.503419  0.213292 -1.430722  0   2.360235  1"
      ]
     },
     "execution_count": 13,
     "metadata": {},
     "output_type": "execute_result"
    }
   ],
   "source": [
    "sorteddf1['g'] = [0, 0, 0, 0, 0, 1, 1, 1, 1, 1]\n",
    "sorteddf1"
   ]
  },
  {
   "cell_type": "code",
   "execution_count": 14,
   "metadata": {
    "collapsed": false
   },
   "outputs": [
    {
     "data": {
      "text/plain": [
       "g\n",
       "0   -4.658968\n",
       "1    0.767610\n",
       "Name: f, dtype: float64"
      ]
     },
     "execution_count": 14,
     "metadata": {},
     "output_type": "execute_result"
    }
   ],
   "source": [
    "avg_of_col_f = sorteddf1.groupby(['g'])['f'].mean()\n",
    "avg_of_col_f"
   ]
  },
  {
   "cell_type": "code",
   "execution_count": 15,
   "metadata": {
    "collapsed": false
   },
   "outputs": [
    {
     "data": {
      "text/html": [
       "<div style=\"max-height:1000px;max-width:1500px;overflow:auto;\">\n",
       "<table border=\"1\" class=\"dataframe\">\n",
       "  <thead>\n",
       "    <tr style=\"text-align: right;\">\n",
       "      <th></th>\n",
       "      <th>f</th>\n",
       "      <th>g</th>\n",
       "      <th>h</th>\n",
       "    </tr>\n",
       "  </thead>\n",
       "  <tbody>\n",
       "    <tr>\n",
       "      <th>0</th>\n",
       "      <td>-10.052028</td>\n",
       "      <td> 0</td>\n",
       "      <td> 2</td>\n",
       "    </tr>\n",
       "    <tr>\n",
       "      <th>1</th>\n",
       "      <td> -5.430230</td>\n",
       "      <td> 0</td>\n",
       "      <td> 2</td>\n",
       "    </tr>\n",
       "    <tr>\n",
       "      <th>2</th>\n",
       "      <td> -3.502507</td>\n",
       "      <td> 0</td>\n",
       "      <td> 3</td>\n",
       "    </tr>\n",
       "    <tr>\n",
       "      <th>3</th>\n",
       "      <td> -2.768806</td>\n",
       "      <td> 0</td>\n",
       "      <td> 3</td>\n",
       "    </tr>\n",
       "    <tr>\n",
       "      <th>4</th>\n",
       "      <td> -1.541270</td>\n",
       "      <td> 0</td>\n",
       "      <td> 3</td>\n",
       "    </tr>\n",
       "    <tr>\n",
       "      <th>5</th>\n",
       "      <td> -1.335409</td>\n",
       "      <td> 1</td>\n",
       "      <td> 4</td>\n",
       "    </tr>\n",
       "    <tr>\n",
       "      <th>6</th>\n",
       "      <td>  0.265429</td>\n",
       "      <td> 1</td>\n",
       "      <td> 4</td>\n",
       "    </tr>\n",
       "    <tr>\n",
       "      <th>7</th>\n",
       "      <td>  0.500517</td>\n",
       "      <td> 1</td>\n",
       "      <td> 5</td>\n",
       "    </tr>\n",
       "    <tr>\n",
       "      <th>8</th>\n",
       "      <td>  2.047276</td>\n",
       "      <td> 1</td>\n",
       "      <td> 5</td>\n",
       "    </tr>\n",
       "    <tr>\n",
       "      <th>9</th>\n",
       "      <td>  2.360235</td>\n",
       "      <td> 1</td>\n",
       "      <td> 5</td>\n",
       "    </tr>\n",
       "  </tbody>\n",
       "</table>\n",
       "</div>"
      ],
      "text/plain": [
       "           f  g  h\n",
       "0 -10.052028  0  2\n",
       "1  -5.430230  0  2\n",
       "2  -3.502507  0  3\n",
       "3  -2.768806  0  3\n",
       "4  -1.541270  0  3\n",
       "5  -1.335409  1  4\n",
       "6   0.265429  1  4\n",
       "7   0.500517  1  5\n",
       "8   2.047276  1  5\n",
       "9   2.360235  1  5"
      ]
     },
     "execution_count": 15,
     "metadata": {},
     "output_type": "execute_result"
    }
   ],
   "source": [
    "aggregated_repl_of_col_f = sorteddf1.xs(['f', 'g'], axis = 1)\n",
    "aggregated_repl_of_col_f = aggregated_repl_of_col_f.reset_index(drop = True)\n",
    "aggregated_repl_of_col_f['h'] = [2, 2, 3, 3, 3, 4, 4, 5, 5, 5]\n",
    "aggregated_repl_of_col_f"
   ]
  },
  {
   "cell_type": "code",
   "execution_count": 16,
   "metadata": {
    "collapsed": false
   },
   "outputs": [
    {
     "data": {
      "text/plain": [
       "g  h\n",
       "0  2                    [-10.0520275243, -5.43022989194]\n",
       "   3    [-3.50250729799, -2.76880641051, -1.54127016332]\n",
       "1  4                    [-1.33540870152, 0.265428725834]\n",
       "   5       [0.50051734269, 2.04727607556, 2.36023534421]\n",
       "Name: f, dtype: object"
      ]
     },
     "execution_count": 16,
     "metadata": {},
     "output_type": "execute_result"
    }
   ],
   "source": [
    "gb = aggregated_repl_of_col_f.groupby(('g', 'h'))\n",
    "result = gb['f'].unique()\n",
    "#result.reset_index(inplace=True) #lastly, reset the index\n",
    "result"
   ]
  },
  {
   "cell_type": "code",
   "execution_count": 17,
   "metadata": {
    "collapsed": false
   },
   "outputs": [
    {
     "data": {
      "text/html": [
       "<div style=\"max-height:1000px;max-width:1500px;overflow:auto;\">\n",
       "<table border=\"1\" class=\"dataframe\">\n",
       "  <thead>\n",
       "    <tr style=\"text-align: right;\">\n",
       "      <th></th>\n",
       "      <th></th>\n",
       "      <th>f</th>\n",
       "    </tr>\n",
       "    <tr>\n",
       "      <th>g</th>\n",
       "      <th>h</th>\n",
       "      <th></th>\n",
       "    </tr>\n",
       "  </thead>\n",
       "  <tbody>\n",
       "    <tr>\n",
       "      <th rowspan=\"2\" valign=\"top\">0</th>\n",
       "      <th>2</th>\n",
       "      <td>                 [-10.0520275243, -5.43022989194]</td>\n",
       "    </tr>\n",
       "    <tr>\n",
       "      <th>3</th>\n",
       "      <td> [-3.50250729799, -2.76880641051, -1.54127016332]</td>\n",
       "    </tr>\n",
       "    <tr>\n",
       "      <th rowspan=\"2\" valign=\"top\">1</th>\n",
       "      <th>4</th>\n",
       "      <td>                 [-1.33540870152, 0.265428725834]</td>\n",
       "    </tr>\n",
       "    <tr>\n",
       "      <th>5</th>\n",
       "      <td>    [0.50051734269, 2.04727607556, 2.36023534421]</td>\n",
       "    </tr>\n",
       "  </tbody>\n",
       "</table>\n",
       "</div>"
      ],
      "text/plain": [
       "                                                    f\n",
       "g h                                                  \n",
       "0 2                  [-10.0520275243, -5.43022989194]\n",
       "  3  [-3.50250729799, -2.76880641051, -1.54127016332]\n",
       "1 4                  [-1.33540870152, 0.265428725834]\n",
       "  5     [0.50051734269, 2.04727607556, 2.36023534421]"
      ]
     },
     "execution_count": 17,
     "metadata": {},
     "output_type": "execute_result"
    }
   ],
   "source": [
    "result = result.to_frame()\n",
    "result"
   ]
  },
  {
   "cell_type": "code",
   "execution_count": 18,
   "metadata": {
    "collapsed": false
   },
   "outputs": [
    {
     "data": {
      "text/html": [
       "<div style=\"max-height:1000px;max-width:1500px;overflow:auto;\">\n",
       "<table border=\"1\" class=\"dataframe\">\n",
       "  <thead>\n",
       "    <tr style=\"text-align: right;\">\n",
       "      <th></th>\n",
       "      <th></th>\n",
       "      <th>f</th>\n",
       "      <th>i</th>\n",
       "      <th>j</th>\n",
       "    </tr>\n",
       "    <tr>\n",
       "      <th>g</th>\n",
       "      <th>h</th>\n",
       "      <th></th>\n",
       "      <th></th>\n",
       "      <th></th>\n",
       "    </tr>\n",
       "  </thead>\n",
       "  <tbody>\n",
       "    <tr>\n",
       "      <th rowspan=\"2\" valign=\"top\">0</th>\n",
       "      <th>2</th>\n",
       "      <td>                 [-10.0520275243, -5.43022989194]</td>\n",
       "      <td> 0</td>\n",
       "      <td> 0.01</td>\n",
       "    </tr>\n",
       "    <tr>\n",
       "      <th>3</th>\n",
       "      <td> [-3.50250729799, -2.76880641051, -1.54127016332]</td>\n",
       "      <td> 1</td>\n",
       "      <td> 0.01</td>\n",
       "    </tr>\n",
       "    <tr>\n",
       "      <th rowspan=\"2\" valign=\"top\">1</th>\n",
       "      <th>4</th>\n",
       "      <td>                 [-1.33540870152, 0.265428725834]</td>\n",
       "      <td> 2</td>\n",
       "      <td> 0.01</td>\n",
       "    </tr>\n",
       "    <tr>\n",
       "      <th>5</th>\n",
       "      <td>    [0.50051734269, 2.04727607556, 2.36023534421]</td>\n",
       "      <td> 3</td>\n",
       "      <td> 0.05</td>\n",
       "    </tr>\n",
       "  </tbody>\n",
       "</table>\n",
       "</div>"
      ],
      "text/plain": [
       "                                                    f  i     j\n",
       "g h                                                           \n",
       "0 2                  [-10.0520275243, -5.43022989194]  0  0.01\n",
       "  3  [-3.50250729799, -2.76880641051, -1.54127016332]  1  0.01\n",
       "1 4                  [-1.33540870152, 0.265428725834]  2  0.01\n",
       "  5     [0.50051734269, 2.04727607556, 2.36023534421]  3  0.05"
      ]
     },
     "execution_count": 18,
     "metadata": {},
     "output_type": "execute_result"
    }
   ],
   "source": [
    "result['i'] = [0, 1, 2, 3]\n",
    "\n",
    "result['j'] = [0.01, 0.01, 0.01, 0.05]\n",
    "\n",
    "result"
   ]
  },
  {
   "cell_type": "code",
   "execution_count": 19,
   "metadata": {
    "collapsed": false
   },
   "outputs": [],
   "source": [
    "#result_analyses = result.reset_index()\n",
    "\n",
    "#result_analyses = result_analyses.groupby(['g', 'h'])['f'].mean()\n",
    "\n",
    "#result_analyses"
   ]
  },
  {
   "cell_type": "code",
   "execution_count": 31,
   "metadata": {
    "collapsed": false
   },
   "outputs": [
    {
     "data": {
      "text/plain": [
       "f    [0.50051734269, 2.04727607556, 2.36023534421]\n",
       "i                                                3\n",
       "j                                             0.05\n",
       "Name: (1, 5), dtype: object"
      ]
     },
     "execution_count": 31,
     "metadata": {},
     "output_type": "execute_result"
    }
   ],
   "source": [
    "result.loc[(1, 5)]"
   ]
  },
  {
   "cell_type": "code",
   "execution_count": 35,
   "metadata": {
    "collapsed": false
   },
   "outputs": [
    {
     "name": "stdout",
     "output_type": "stream",
     "text": [
      "0\n",
      "                                                    f  i     j\n",
      "g h                                                           \n",
      "0 2                  [-10.0520275243, -5.43022989194]  0  0.01\n",
      "  3  [-3.50250729799, -2.76880641051, -1.54127016332]  1  0.01\n",
      "1\n",
      "                                                 f  i     j\n",
      "g h                                                        \n",
      "1 4               [-1.33540870152, 0.265428725834]  2  0.01\n",
      "  5  [0.50051734269, 2.04727607556, 2.36023534421]  3  0.05\n"
     ]
    }
   ],
   "source": [
    "for group_name, group_df in result.groupby(level = 0):\n",
    "    print group_name\n",
    "    print group_df"
   ]
  },
  {
   "cell_type": "code",
   "execution_count": 29,
   "metadata": {
    "collapsed": false
   },
   "outputs": [
    {
     "data": {
      "text/html": [
       "<div style=\"max-height:1000px;max-width:1500px;overflow:auto;\">\n",
       "<table border=\"1\" class=\"dataframe\">\n",
       "  <thead>\n",
       "    <tr style=\"text-align: right;\">\n",
       "      <th></th>\n",
       "      <th>g</th>\n",
       "      <th>h</th>\n",
       "      <th>f</th>\n",
       "      <th>i</th>\n",
       "      <th>j</th>\n",
       "    </tr>\n",
       "  </thead>\n",
       "  <tbody>\n",
       "    <tr>\n",
       "      <th>0</th>\n",
       "      <td> 0</td>\n",
       "      <td> 2</td>\n",
       "      <td>                 [-10.0520275243, -5.43022989194]</td>\n",
       "      <td> 0</td>\n",
       "      <td> 0.01</td>\n",
       "    </tr>\n",
       "    <tr>\n",
       "      <th>1</th>\n",
       "      <td> 0</td>\n",
       "      <td> 3</td>\n",
       "      <td> [-3.50250729799, -2.76880641051, -1.54127016332]</td>\n",
       "      <td> 1</td>\n",
       "      <td> 0.01</td>\n",
       "    </tr>\n",
       "    <tr>\n",
       "      <th>2</th>\n",
       "      <td> 1</td>\n",
       "      <td> 4</td>\n",
       "      <td>                 [-1.33540870152, 0.265428725834]</td>\n",
       "      <td> 2</td>\n",
       "      <td> 0.01</td>\n",
       "    </tr>\n",
       "    <tr>\n",
       "      <th>3</th>\n",
       "      <td> 1</td>\n",
       "      <td> 5</td>\n",
       "      <td>    [0.50051734269, 2.04727607556, 2.36023534421]</td>\n",
       "      <td> 3</td>\n",
       "      <td> 0.05</td>\n",
       "    </tr>\n",
       "  </tbody>\n",
       "</table>\n",
       "</div>"
      ],
      "text/plain": [
       "   g  h                                                 f  i     j\n",
       "0  0  2                  [-10.0520275243, -5.43022989194]  0  0.01\n",
       "1  0  3  [-3.50250729799, -2.76880641051, -1.54127016332]  1  0.01\n",
       "2  1  4                  [-1.33540870152, 0.265428725834]  2  0.01\n",
       "3  1  5     [0.50051734269, 2.04727607556, 2.36023534421]  3  0.05"
      ]
     },
     "execution_count": 29,
     "metadata": {},
     "output_type": "execute_result"
    }
   ],
   "source": [
    "df = result.reset_index()\n",
    "df"
   ]
  },
  {
   "cell_type": "code",
   "execution_count": 32,
   "metadata": {
    "collapsed": false
   },
   "outputs": [
    {
     "data": {
      "text/plain": [
       "g                                                1\n",
       "h                                                5\n",
       "f    [0.50051734269, 2.04727607556, 2.36023534421]\n",
       "i                                                3\n",
       "j                                             0.05\n",
       "Name: 3, dtype: object"
      ]
     },
     "execution_count": 32,
     "metadata": {},
     "output_type": "execute_result"
    }
   ],
   "source": [
    "df.loc[3]"
   ]
  },
  {
   "cell_type": "code",
   "execution_count": 30,
   "metadata": {
    "collapsed": false
   },
   "outputs": [
    {
     "name": "stdout",
     "output_type": "stream",
     "text": [
      "(0,    g  h                                                 f  i     j\n",
      "0  0  2                  [-10.0520275243, -5.43022989194]  0  0.01\n",
      "1  0  3  [-3.50250729799, -2.76880641051, -1.54127016332]  1  0.01)\n",
      "(1,    g  h                                              f  i     j\n",
      "2  1  4               [-1.33540870152, 0.265428725834]  2  0.01\n",
      "3  1  5  [0.50051734269, 2.04727607556, 2.36023534421]  3  0.05)\n"
     ]
    }
   ],
   "source": [
    "\n",
    "for x in df.groupby('g'):\n",
    "    print x"
   ]
  },
  {
   "cell_type": "code",
   "execution_count": 20,
   "metadata": {
    "collapsed": false
   },
   "outputs": [
    {
     "ename": "AttributeError",
     "evalue": "'DataFrame' object has no attribute 'iter'",
     "output_type": "error",
     "traceback": [
      "\u001b[0;31m---------------------------------------------------------------------------\u001b[0m",
      "\u001b[0;31mAttributeError\u001b[0m                            Traceback (most recent call last)",
      "\u001b[0;32m<ipython-input-20-e5dad755c81e>\u001b[0m in \u001b[0;36m<module>\u001b[0;34m()\u001b[0m\n\u001b[1;32m      1\u001b[0m \u001b[0mresult_index_g\u001b[0m \u001b[0;34m=\u001b[0m \u001b[0mresult\u001b[0m\u001b[0;34m.\u001b[0m\u001b[0mindex\u001b[0m\u001b[0;34m.\u001b[0m\u001b[0mlevels\u001b[0m\u001b[0;34m[\u001b[0m\u001b[0;36m0\u001b[0m\u001b[0;34m]\u001b[0m\u001b[0;34m\u001b[0m\u001b[0m\n\u001b[1;32m      2\u001b[0m \u001b[0;34m\u001b[0m\u001b[0m\n\u001b[0;32m----> 3\u001b[0;31m \u001b[0;32mfor\u001b[0m \u001b[0mx\u001b[0m \u001b[0;32min\u001b[0m \u001b[0mresult\u001b[0m\u001b[0;34m.\u001b[0m\u001b[0miter\u001b[0m\u001b[0;34m:\u001b[0m\u001b[0;34m\u001b[0m\u001b[0m\n\u001b[0m\u001b[1;32m      4\u001b[0m     \u001b[0;32mprint\u001b[0m \u001b[0;34m'aha'\u001b[0m\u001b[0;34m\u001b[0m\u001b[0m\n\u001b[1;32m      5\u001b[0m \u001b[0;34m\u001b[0m\u001b[0m\n",
      "\u001b[0;32m//anaconda/lib/python2.7/site-packages/pandas/core/generic.pyc\u001b[0m in \u001b[0;36m__getattr__\u001b[0;34m(self, name)\u001b[0m\n\u001b[1;32m   1841\u001b[0m                 \u001b[0;32mreturn\u001b[0m \u001b[0mself\u001b[0m\u001b[0;34m[\u001b[0m\u001b[0mname\u001b[0m\u001b[0;34m]\u001b[0m\u001b[0;34m\u001b[0m\u001b[0m\n\u001b[1;32m   1842\u001b[0m             raise AttributeError(\"'%s' object has no attribute '%s'\" %\n\u001b[0;32m-> 1843\u001b[0;31m                                  (type(self).__name__, name))\n\u001b[0m\u001b[1;32m   1844\u001b[0m \u001b[0;34m\u001b[0m\u001b[0m\n\u001b[1;32m   1845\u001b[0m     \u001b[0;32mdef\u001b[0m \u001b[0m__setattr__\u001b[0m\u001b[0;34m(\u001b[0m\u001b[0mself\u001b[0m\u001b[0;34m,\u001b[0m \u001b[0mname\u001b[0m\u001b[0;34m,\u001b[0m \u001b[0mvalue\u001b[0m\u001b[0;34m)\u001b[0m\u001b[0;34m:\u001b[0m\u001b[0;34m\u001b[0m\u001b[0m\n",
      "\u001b[0;31mAttributeError\u001b[0m: 'DataFrame' object has no attribute 'iter'"
     ]
    }
   ],
   "source": [
    "result_index_g = result.index.levels[0]\n",
    "\n",
    "for x in result.iter:\n",
    "    print 'aha'\n",
    "    \n",
    "    print result['{}'.format(x)]\n",
    "    \n"
   ]
  },
  {
   "cell_type": "code",
   "execution_count": null,
   "metadata": {
    "collapsed": true
   },
   "outputs": [],
   "source": []
  }
 ],
 "metadata": {
  "kernelspec": {
   "display_name": "Python 2",
   "language": "python",
   "name": "python2"
  },
  "language_info": {
   "codemirror_mode": {
    "name": "ipython",
    "version": 2
   },
   "file_extension": ".py",
   "mimetype": "text/x-python",
   "name": "python",
   "nbconvert_exporter": "python",
   "pygments_lexer": "ipython2",
   "version": "2.7.10"
  }
 },
 "nbformat": 4,
 "nbformat_minor": 0
}
