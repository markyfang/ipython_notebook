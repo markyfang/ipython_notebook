{
 "cells": [
  {
   "cell_type": "code",
   "execution_count": 2,
   "metadata": {
    "collapsed": true
   },
   "outputs": [],
   "source": [
    "import matplotlib.pyplot as plt\n",
    "import scipy\n",
    "import scipy.stats\n",
    "import numpy as np"
   ]
  },
  {
   "cell_type": "code",
   "execution_count": 58,
   "metadata": {
    "collapsed": false
   },
   "outputs": [
    {
     "name": "stdout",
     "output_type": "stream",
     "text": [
      "(1.0071063982128576, 1.9207290885442347, 1.0594326120521591e-10, 0.93816512436675825)\n",
      "(1.015036776185265, 4.879865353277089, 9.0871185400540387e-10, 1.9624320685625134)\n",
      "(1.0087996315660459, 1.9786363561648153, 1.8583863584891188e-10, 0.49732358884751182)\n"
     ]
    }
   ],
   "source": [
    "np.set_printoptions(precision = 4, suppress = True)\n",
    "\n",
    "#print(1)\n",
    "\n",
    "#number of data points\n",
    "size = 100000\n",
    "#print(size)\n",
    "# creating the dummy sample (using invgamma distribution)\n",
    "# a is shape param\n",
    "y = scipy.stats.f.rvs(1, 2, size=size)\n",
    "#print(y)\n",
    "# creating the histogram; bins=range(11) means to create 11-1=10 bins equally spaced from\n",
    "# the min value to the max value hence \"range\"\n",
    "#plt.hist(y, bins=range(11), histtype = 'bar')\n",
    "#print(1)\n",
    "#plt.show()\n",
    "\n",
    "\n",
    "param = scipy.stats.f.fit(y)\n",
    "print(param)\n",
    "y = scipy.stats.f.rvs(1, 5, size=size) * 2\n",
    "param = scipy.stats.f.fit(y)\n",
    "print(param)\n",
    "y = scipy.stats.f.rvs(1, 2, size=size) * 0.5\n",
    "param = scipy.stats.f.fit(y)\n",
    "print(param)\n",
    "#x=range(10)\n",
    "#pdf_fitted = scipy.stats.f.pdf(x, param[0], param[1], scale=param[3])\n",
    "#print(pdf_fitted)\n",
    "\n",
    "#plt.plot(x,pdf_fitted)\n",
    "#plt.xlim(0,47)\n",
    "#plt.legend(loc='upper left')\n",
    "#plt.show()\n"
   ]
  },
  {
   "cell_type": "code",
   "execution_count": null,
   "metadata": {
    "collapsed": true
   },
   "outputs": [],
   "source": []
  },
  {
   "cell_type": "code",
   "execution_count": null,
   "metadata": {
    "collapsed": true
   },
   "outputs": [],
   "source": []
  }
 ],
 "metadata": {
  "kernelspec": {
   "display_name": "Python 2",
   "language": "python",
   "name": "python2"
  },
  "language_info": {
   "codemirror_mode": {
    "name": "ipython",
    "version": 2
   },
   "file_extension": ".py",
   "mimetype": "text/x-python",
   "name": "python",
   "nbconvert_exporter": "python",
   "pygments_lexer": "ipython2",
   "version": "2.7.10"
  }
 },
 "nbformat": 4,
 "nbformat_minor": 0
}
