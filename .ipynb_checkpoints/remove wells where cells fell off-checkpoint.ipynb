{
 "cells": [
  {
   "cell_type": "code",
   "execution_count": 3,
   "metadata": {
    "collapsed": true
   },
   "outputs": [],
   "source": [
    "import numpy as np\n",
    "import csv\n",
    "import matplotlib.pyplot as plt\n",
    "import scipy\n",
    "import scipy.stats\n",
    "import math"
   ]
  },
  {
   "cell_type": "code",
   "execution_count": 10,
   "metadata": {
    "collapsed": false
   },
   "outputs": [
    {
     "name": "stdout",
     "output_type": "stream",
     "text": [
      "384\n",
      "True\n"
     ]
    }
   ],
   "source": [
    "MIN_NUCLEAR_AREA = 200000\n",
    "\n",
    "#open raw data file\n",
    "data_file = open('/Users/markfang/Dropbox/UCSD Grad work/RNA-Yeo Lab/Data - analyses/SG project/screening/granule area to nuclear area analyses of large screens/150610 hek293xt spectrum screen rewashed/pre-removal.csv', 'rU')\n",
    "data_table = np.genfromtxt(data_file, delimiter=',')\n",
    "\n",
    "#print(data_table.shape[0])\n",
    "#omit data for which the qualified nuclear area < 20000, as these wells were washed out with\n",
    "#no/few cells remaining\n",
    "for i in range(data_table.shape[0]):\n",
    "    if data_table[i][0] < MIN_NUCLEAR_AREA:\n",
    "        data_table[i][0] = float('NaN')\n",
    "        data_table[i][1] = float('NaN')\n",
    "        \n",
    "#print(np.isnan(data_table[0][0]))"
   ]
  },
  {
   "cell_type": "code",
   "execution_count": 11,
   "metadata": {
    "collapsed": true
   },
   "outputs": [],
   "source": [
    "#with open ('/Users/markfang/Dropbox/UCSD Grad work/RNA-Yeo Lab/Data - analyses/SG project/screening/granule area to nuclear area analyses of large screens/150610 hek293xt spectrum screen rewashed/post-removal.csv','w') as removal_outputfile:\n",
    "    writer = csv.writer(removal_outputfile, delimiter = ',')\n",
    "    writer.writerows(data_table)"
   ]
  },
  {
   "cell_type": "code",
   "execution_count": null,
   "metadata": {
    "collapsed": true
   },
   "outputs": [],
   "source": []
  }
 ],
 "metadata": {
  "kernelspec": {
   "display_name": "Python 2",
   "language": "python",
   "name": "python2"
  },
  "language_info": {
   "codemirror_mode": {
    "name": "ipython",
    "version": 2
   },
   "file_extension": ".py",
   "mimetype": "text/x-python",
   "name": "python",
   "nbconvert_exporter": "python",
   "pygments_lexer": "ipython2",
   "version": "2.7.10"
  }
 },
 "nbformat": 4,
 "nbformat_minor": 0
}
