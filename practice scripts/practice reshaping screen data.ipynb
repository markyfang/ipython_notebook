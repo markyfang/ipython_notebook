{
 "cells": [
  {
   "cell_type": "code",
   "execution_count": 25,
   "metadata": {
    "collapsed": false
   },
   "outputs": [
    {
     "name": "stdout",
     "output_type": "stream",
     "text": [
      "0.198543603\n",
      "0.2047628495\n",
      "0.1912517025\n",
      "0.2167378875\n",
      "0.2167089515\n",
      "0.182348712\n",
      "0.216073717\n",
      "0.214701858\n",
      "0.243604262\n",
      "0.2035091115\n",
      "0.2336998175\n",
      "0.198182754\n",
      "0.2091586295\n",
      "0.2149314205\n",
      "0.1993238545\n",
      "0.230083637\n"
     ]
    }
   ],
   "source": [
    "import numpy as np\n",
    "import csv\n",
    "\n",
    "data_file = open('/Users/markfang/Dropbox/UCSD Grad work/RNA-Yeo Lab/Python scripts/150126 smNPC LOPAC Prestwick.csv', 'rU')\n",
    "data_table = np.genfromtxt(data_file, delimiter=',')\n",
    "raw_data = data_table[4:388, 1:17]\n",
    "#print(raw_data)\n",
    "num_rows = raw_data.shape[0]\n",
    "#print(num_rows)\n",
    "num_col = raw_data.shape[1]\n",
    "#print(num_col)\n",
    "raw_data = np.reshape(raw_data, (1, num_rows * num_col), order = 'F')\n",
    "#print(raw_data)\n",
    "#print(raw_data[0,384])\n",
    "#16 plates, 16 rows, 24 columns\n",
    "raw_data = np.reshape(raw_data, (16, 16, 24), order = 'C')\n",
    "#print(raw_data[2,0,1])\n",
    "\n",
    "num_plates = raw_data.shape[0]\n",
    "#print(num_plates)\n",
    "for i in xrange(0, num_plates):\n",
    "    print(np.median(raw_data[i,:,:]))\n"
   ]
  },
  {
   "cell_type": "code",
   "execution_count": null,
   "metadata": {
    "collapsed": true
   },
   "outputs": [],
   "source": []
  }
 ],
 "metadata": {
  "kernelspec": {
   "display_name": "Python 2",
   "language": "python",
   "name": "python2"
  },
  "language_info": {
   "codemirror_mode": {
    "name": "ipython",
    "version": 2
   },
   "file_extension": ".py",
   "mimetype": "text/x-python",
   "name": "python",
   "nbconvert_exporter": "python",
   "pygments_lexer": "ipython2",
   "version": "2.7.9"
  }
 },
 "nbformat": 4,
 "nbformat_minor": 0
}
