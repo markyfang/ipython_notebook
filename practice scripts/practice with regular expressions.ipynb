{
 "cells": [
  {
   "cell_type": "code",
   "execution_count": 21,
   "metadata": {
    "collapsed": true
   },
   "outputs": [],
   "source": [
    "import numpy as np\n",
    "import csv\n",
    "import matplotlib.mlab as mlab\n",
    "import matplotlib.pyplot as plt\n",
    "import pylab\n",
    "import scipy\n",
    "import scipy.stats\n",
    "import math\n",
    "import pandas as pd\n",
    "import re"
   ]
  },
  {
   "cell_type": "code",
   "execution_count": 22,
   "metadata": {
    "collapsed": false
   },
   "outputs": [],
   "source": [
    "df = pd.DataFrame\n"
   ]
  },
  {
   "cell_type": "code",
   "execution_count": 23,
   "metadata": {
    "collapsed": false
   },
   "outputs": [
    {
     "data": {
      "text/plain": [
       "pandas.core.frame.DataFrame"
      ]
     },
     "execution_count": 23,
     "metadata": {},
     "output_type": "execute_result"
    }
   ],
   "source": [
    "df"
   ]
  },
  {
   "cell_type": "code",
   "execution_count": 24,
   "metadata": {
    "collapsed": false
   },
   "outputs": [
    {
     "data": {
      "text/html": [
       "<div style=\"max-height:1000px;max-width:1500px;overflow:auto;\">\n",
       "<table border=\"1\" class=\"dataframe\">\n",
       "  <thead>\n",
       "    <tr style=\"text-align: right;\">\n",
       "      <th></th>\n",
       "      <th>a</th>\n",
       "      <th>b</th>\n",
       "      <th>c</th>\n",
       "      <th>d</th>\n",
       "    </tr>\n",
       "  </thead>\n",
       "  <tbody>\n",
       "    <tr>\n",
       "      <th>0</th>\n",
       "      <td> 0.151305</td>\n",
       "      <td> 1.861894</td>\n",
       "      <td>-0.235728</td>\n",
       "      <td> 0.066373</td>\n",
       "    </tr>\n",
       "    <tr>\n",
       "      <th>1</th>\n",
       "      <td> 0.049152</td>\n",
       "      <td>-0.493777</td>\n",
       "      <td> 1.470238</td>\n",
       "      <td> 0.510024</td>\n",
       "    </tr>\n",
       "    <tr>\n",
       "      <th>2</th>\n",
       "      <td>-0.413223</td>\n",
       "      <td> 1.537732</td>\n",
       "      <td> 0.396859</td>\n",
       "      <td> 0.771860</td>\n",
       "    </tr>\n",
       "    <tr>\n",
       "      <th>3</th>\n",
       "      <td> 0.677021</td>\n",
       "      <td>-1.207244</td>\n",
       "      <td>-0.973495</td>\n",
       "      <td> 0.659957</td>\n",
       "    </tr>\n",
       "    <tr>\n",
       "      <th>4</th>\n",
       "      <td>-0.578008</td>\n",
       "      <td> 0.024338</td>\n",
       "      <td> 0.036016</td>\n",
       "      <td> 0.119123</td>\n",
       "    </tr>\n",
       "    <tr>\n",
       "      <th>5</th>\n",
       "      <td> 1.676271</td>\n",
       "      <td>-0.096939</td>\n",
       "      <td> 0.139283</td>\n",
       "      <td>-0.395822</td>\n",
       "    </tr>\n",
       "    <tr>\n",
       "      <th>6</th>\n",
       "      <td> 1.240279</td>\n",
       "      <td>-0.084605</td>\n",
       "      <td>-0.568702</td>\n",
       "      <td> 0.186452</td>\n",
       "    </tr>\n",
       "    <tr>\n",
       "      <th>7</th>\n",
       "      <td>-0.561818</td>\n",
       "      <td> 1.534539</td>\n",
       "      <td> 0.145453</td>\n",
       "      <td> 0.195168</td>\n",
       "    </tr>\n",
       "    <tr>\n",
       "      <th>8</th>\n",
       "      <td>-1.586945</td>\n",
       "      <td>-0.471717</td>\n",
       "      <td>-0.989430</td>\n",
       "      <td>-0.587417</td>\n",
       "    </tr>\n",
       "    <tr>\n",
       "      <th>9</th>\n",
       "      <td>-0.848745</td>\n",
       "      <td> 0.240944</td>\n",
       "      <td> 0.920748</td>\n",
       "      <td> 0.275217</td>\n",
       "    </tr>\n",
       "  </tbody>\n",
       "</table>\n",
       "</div>"
      ],
      "text/plain": [
       "          a         b         c         d\n",
       "0  0.151305  1.861894 -0.235728  0.066373\n",
       "1  0.049152 -0.493777  1.470238  0.510024\n",
       "2 -0.413223  1.537732  0.396859  0.771860\n",
       "3  0.677021 -1.207244 -0.973495  0.659957\n",
       "4 -0.578008  0.024338  0.036016  0.119123\n",
       "5  1.676271 -0.096939  0.139283 -0.395822\n",
       "6  1.240279 -0.084605 -0.568702  0.186452\n",
       "7 -0.561818  1.534539  0.145453  0.195168\n",
       "8 -1.586945 -0.471717 -0.989430 -0.587417\n",
       "9 -0.848745  0.240944  0.920748  0.275217"
      ]
     },
     "execution_count": 24,
     "metadata": {},
     "output_type": "execute_result"
    }
   ],
   "source": [
    "df1 = pd.DataFrame(np.random.randn(10, 4), columns=['a', 'b', 'c', 'd'])\n",
    "df1"
   ]
  },
  {
   "cell_type": "code",
   "execution_count": 25,
   "metadata": {
    "collapsed": true
   },
   "outputs": [],
   "source": [
    "df = df1"
   ]
  },
  {
   "cell_type": "code",
   "execution_count": 26,
   "metadata": {
    "collapsed": false
   },
   "outputs": [
    {
     "data": {
      "text/html": [
       "<div style=\"max-height:1000px;max-width:1500px;overflow:auto;\">\n",
       "<table border=\"1\" class=\"dataframe\">\n",
       "  <thead>\n",
       "    <tr style=\"text-align: right;\">\n",
       "      <th></th>\n",
       "      <th>a</th>\n",
       "      <th>b</th>\n",
       "      <th>c</th>\n",
       "      <th>d</th>\n",
       "    </tr>\n",
       "  </thead>\n",
       "  <tbody>\n",
       "    <tr>\n",
       "      <th>0</th>\n",
       "      <td> 0.151305</td>\n",
       "      <td> 1.861894</td>\n",
       "      <td>-0.235728</td>\n",
       "      <td> 0.066373</td>\n",
       "    </tr>\n",
       "    <tr>\n",
       "      <th>1</th>\n",
       "      <td> 0.049152</td>\n",
       "      <td>-0.493777</td>\n",
       "      <td> 1.470238</td>\n",
       "      <td> 0.510024</td>\n",
       "    </tr>\n",
       "    <tr>\n",
       "      <th>2</th>\n",
       "      <td>-0.413223</td>\n",
       "      <td> 1.537732</td>\n",
       "      <td> 0.396859</td>\n",
       "      <td> 0.771860</td>\n",
       "    </tr>\n",
       "    <tr>\n",
       "      <th>3</th>\n",
       "      <td> 0.677021</td>\n",
       "      <td>-1.207244</td>\n",
       "      <td>-0.973495</td>\n",
       "      <td> 0.659957</td>\n",
       "    </tr>\n",
       "    <tr>\n",
       "      <th>4</th>\n",
       "      <td>-0.578008</td>\n",
       "      <td> 0.024338</td>\n",
       "      <td> 0.036016</td>\n",
       "      <td> 0.119123</td>\n",
       "    </tr>\n",
       "    <tr>\n",
       "      <th>5</th>\n",
       "      <td> 1.676271</td>\n",
       "      <td>-0.096939</td>\n",
       "      <td> 0.139283</td>\n",
       "      <td>-0.395822</td>\n",
       "    </tr>\n",
       "    <tr>\n",
       "      <th>6</th>\n",
       "      <td> 1.240279</td>\n",
       "      <td>-0.084605</td>\n",
       "      <td>-0.568702</td>\n",
       "      <td> 0.186452</td>\n",
       "    </tr>\n",
       "    <tr>\n",
       "      <th>7</th>\n",
       "      <td>-0.561818</td>\n",
       "      <td> 1.534539</td>\n",
       "      <td> 0.145453</td>\n",
       "      <td> 0.195168</td>\n",
       "    </tr>\n",
       "    <tr>\n",
       "      <th>8</th>\n",
       "      <td>-1.586945</td>\n",
       "      <td>-0.471717</td>\n",
       "      <td>-0.989430</td>\n",
       "      <td>-0.587417</td>\n",
       "    </tr>\n",
       "    <tr>\n",
       "      <th>9</th>\n",
       "      <td>-0.848745</td>\n",
       "      <td> 0.240944</td>\n",
       "      <td> 0.920748</td>\n",
       "      <td> 0.275217</td>\n",
       "    </tr>\n",
       "  </tbody>\n",
       "</table>\n",
       "</div>"
      ],
      "text/plain": [
       "          a         b         c         d\n",
       "0  0.151305  1.861894 -0.235728  0.066373\n",
       "1  0.049152 -0.493777  1.470238  0.510024\n",
       "2 -0.413223  1.537732  0.396859  0.771860\n",
       "3  0.677021 -1.207244 -0.973495  0.659957\n",
       "4 -0.578008  0.024338  0.036016  0.119123\n",
       "5  1.676271 -0.096939  0.139283 -0.395822\n",
       "6  1.240279 -0.084605 -0.568702  0.186452\n",
       "7 -0.561818  1.534539  0.145453  0.195168\n",
       "8 -1.586945 -0.471717 -0.989430 -0.587417\n",
       "9 -0.848745  0.240944  0.920748  0.275217"
      ]
     },
     "execution_count": 26,
     "metadata": {},
     "output_type": "execute_result"
    }
   ],
   "source": [
    "df"
   ]
  },
  {
   "cell_type": "code",
   "execution_count": 36,
   "metadata": {
    "collapsed": false
   },
   "outputs": [
    {
     "name": "stdout",
     "output_type": "stream",
     "text": [
      "haha\n",
      "asdasdf\n"
     ]
    }
   ],
   "source": [
    "stra = 'asdfasdf'\n",
    "strb = 'asdasdf'\n",
    "\n",
    "#use backslash to escape regular expression operators, such as . so this backslash forces\n",
    "#python to interpret the period as a period character, not as a special regex operator\n",
    "match = re.search('asd.asdf', stra)\n",
    "match\n",
    "\n",
    "if match:\n",
    "    print 'haha'\n",
    "    \n",
    "if 'asd' in stra:\n",
    "    print strb"
   ]
  },
  {
   "cell_type": "code",
   "execution_count": null,
   "metadata": {
    "collapsed": true
   },
   "outputs": [],
   "source": []
  }
 ],
 "metadata": {
  "kernelspec": {
   "display_name": "Python 2",
   "language": "python",
   "name": "python2"
  },
  "language_info": {
   "codemirror_mode": {
    "name": "ipython",
    "version": 2
   },
   "file_extension": ".py",
   "mimetype": "text/x-python",
   "name": "python",
   "nbconvert_exporter": "python",
   "pygments_lexer": "ipython2",
   "version": "2.7.10"
  }
 },
 "nbformat": 4,
 "nbformat_minor": 0
}
