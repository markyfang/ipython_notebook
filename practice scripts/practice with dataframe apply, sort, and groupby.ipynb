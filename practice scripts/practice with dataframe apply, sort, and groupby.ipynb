{
 "cells": [
  {
   "cell_type": "code",
   "execution_count": 1,
   "metadata": {
    "collapsed": true
   },
   "outputs": [],
   "source": [
    "import numpy as np\n",
    "import csv\n",
    "import matplotlib.mlab as mlab\n",
    "import matplotlib.pyplot as plt\n",
    "import pylab\n",
    "import scipy\n",
    "import scipy.stats\n",
    "import math\n",
    "import pandas as pd"
   ]
  },
  {
   "cell_type": "code",
   "execution_count": 2,
   "metadata": {
    "collapsed": false
   },
   "outputs": [
    {
     "data": {
      "text/html": [
       "<div style=\"max-height:1000px;max-width:1500px;overflow:auto;\">\n",
       "<table border=\"1\" class=\"dataframe\">\n",
       "  <thead>\n",
       "    <tr style=\"text-align: right;\">\n",
       "      <th></th>\n",
       "      <th>a</th>\n",
       "      <th>b</th>\n",
       "      <th>c</th>\n",
       "      <th>d</th>\n",
       "      <th>e</th>\n",
       "    </tr>\n",
       "  </thead>\n",
       "  <tbody>\n",
       "    <tr>\n",
       "      <th>0</th>\n",
       "      <td> 0.832157</td>\n",
       "      <td> 0.229430</td>\n",
       "      <td>-0.490147</td>\n",
       "      <td> 1.914329</td>\n",
       "      <td> 0</td>\n",
       "    </tr>\n",
       "    <tr>\n",
       "      <th>1</th>\n",
       "      <td> 1.347242</td>\n",
       "      <td> 0.166303</td>\n",
       "      <td>-0.366428</td>\n",
       "      <td> 0.518549</td>\n",
       "      <td> 0</td>\n",
       "    </tr>\n",
       "    <tr>\n",
       "      <th>2</th>\n",
       "      <td> 1.031834</td>\n",
       "      <td>-1.139792</td>\n",
       "      <td>-0.854190</td>\n",
       "      <td> 0.915981</td>\n",
       "      <td> 0</td>\n",
       "    </tr>\n",
       "    <tr>\n",
       "      <th>3</th>\n",
       "      <td>-1.698394</td>\n",
       "      <td> 1.550522</td>\n",
       "      <td>-0.217250</td>\n",
       "      <td> 1.176162</td>\n",
       "      <td> 0</td>\n",
       "    </tr>\n",
       "    <tr>\n",
       "      <th>4</th>\n",
       "      <td>-0.498213</td>\n",
       "      <td>-1.491170</td>\n",
       "      <td>-0.310698</td>\n",
       "      <td> 0.098150</td>\n",
       "      <td> 0</td>\n",
       "    </tr>\n",
       "    <tr>\n",
       "      <th>5</th>\n",
       "      <td> 0.111512</td>\n",
       "      <td>-0.596836</td>\n",
       "      <td> 0.332071</td>\n",
       "      <td>-1.402941</td>\n",
       "      <td> 0</td>\n",
       "    </tr>\n",
       "    <tr>\n",
       "      <th>6</th>\n",
       "      <td>-0.637744</td>\n",
       "      <td> 0.631031</td>\n",
       "      <td>-0.774373</td>\n",
       "      <td> 1.347731</td>\n",
       "      <td> 0</td>\n",
       "    </tr>\n",
       "    <tr>\n",
       "      <th>7</th>\n",
       "      <td>-0.062214</td>\n",
       "      <td> 0.923697</td>\n",
       "      <td>-0.483668</td>\n",
       "      <td>-1.704253</td>\n",
       "      <td> 0</td>\n",
       "    </tr>\n",
       "    <tr>\n",
       "      <th>8</th>\n",
       "      <td>-0.221024</td>\n",
       "      <td> 1.837167</td>\n",
       "      <td>-1.042690</td>\n",
       "      <td>-0.501895</td>\n",
       "      <td> 0</td>\n",
       "    </tr>\n",
       "    <tr>\n",
       "      <th>9</th>\n",
       "      <td>-0.578375</td>\n",
       "      <td> 2.004424</td>\n",
       "      <td>-0.608020</td>\n",
       "      <td> 1.139545</td>\n",
       "      <td> 0</td>\n",
       "    </tr>\n",
       "  </tbody>\n",
       "</table>\n",
       "</div>"
      ],
      "text/plain": [
       "          a         b         c         d  e\n",
       "0  0.832157  0.229430 -0.490147  1.914329  0\n",
       "1  1.347242  0.166303 -0.366428  0.518549  0\n",
       "2  1.031834 -1.139792 -0.854190  0.915981  0\n",
       "3 -1.698394  1.550522 -0.217250  1.176162  0\n",
       "4 -0.498213 -1.491170 -0.310698  0.098150  0\n",
       "5  0.111512 -0.596836  0.332071 -1.402941  0\n",
       "6 -0.637744  0.631031 -0.774373  1.347731  0\n",
       "7 -0.062214  0.923697 -0.483668 -1.704253  0\n",
       "8 -0.221024  1.837167 -1.042690 -0.501895  0\n",
       "9 -0.578375  2.004424 -0.608020  1.139545  0"
      ]
     },
     "execution_count": 2,
     "metadata": {},
     "output_type": "execute_result"
    }
   ],
   "source": [
    "df1 = pd.DataFrame(np.random.randn(10, 4), columns=['a', 'b', 'c', 'd'])\n",
    "\n",
    "#add new column to a dataframe\n",
    "#df1['e'] = np.random.randn(10)\n",
    "df1['e'] = 0\n",
    "#df1['e'] = np.random.randn(1)\n",
    "\n",
    "\n",
    "df1"
   ]
  },
  {
   "cell_type": "code",
   "execution_count": 3,
   "metadata": {
    "collapsed": false
   },
   "outputs": [
    {
     "name": "stdout",
     "output_type": "stream",
     "text": [
      "10\n"
     ]
    }
   ],
   "source": [
    "print len(df1.index)"
   ]
  },
  {
   "cell_type": "code",
   "execution_count": 4,
   "metadata": {
    "collapsed": false
   },
   "outputs": [
    {
     "data": {
      "text/plain": [
       "(10, 5)"
      ]
     },
     "execution_count": 4,
     "metadata": {},
     "output_type": "execute_result"
    }
   ],
   "source": [
    "df1.shape\n"
   ]
  },
  {
   "cell_type": "code",
   "execution_count": 5,
   "metadata": {
    "collapsed": true
   },
   "outputs": [],
   "source": [
    "df1 = df1.rename(columns = {'a': 'x'})"
   ]
  },
  {
   "cell_type": "code",
   "execution_count": 6,
   "metadata": {
    "collapsed": false
   },
   "outputs": [
    {
     "data": {
      "text/html": [
       "<div style=\"max-height:1000px;max-width:1500px;overflow:auto;\">\n",
       "<table border=\"1\" class=\"dataframe\">\n",
       "  <thead>\n",
       "    <tr style=\"text-align: right;\">\n",
       "      <th></th>\n",
       "      <th>x</th>\n",
       "      <th>b</th>\n",
       "      <th>c</th>\n",
       "      <th>d</th>\n",
       "      <th>e</th>\n",
       "    </tr>\n",
       "  </thead>\n",
       "  <tbody>\n",
       "    <tr>\n",
       "      <th>0</th>\n",
       "      <td> 0.832157</td>\n",
       "      <td> 0.229430</td>\n",
       "      <td>-0.490147</td>\n",
       "      <td> 1.914329</td>\n",
       "      <td> 0</td>\n",
       "    </tr>\n",
       "    <tr>\n",
       "      <th>1</th>\n",
       "      <td> 1.347242</td>\n",
       "      <td> 0.166303</td>\n",
       "      <td>-0.366428</td>\n",
       "      <td> 0.518549</td>\n",
       "      <td> 0</td>\n",
       "    </tr>\n",
       "    <tr>\n",
       "      <th>2</th>\n",
       "      <td> 1.031834</td>\n",
       "      <td>-1.139792</td>\n",
       "      <td>-0.854190</td>\n",
       "      <td> 0.915981</td>\n",
       "      <td> 0</td>\n",
       "    </tr>\n",
       "    <tr>\n",
       "      <th>3</th>\n",
       "      <td>-1.698394</td>\n",
       "      <td> 1.550522</td>\n",
       "      <td>-0.217250</td>\n",
       "      <td> 1.176162</td>\n",
       "      <td> 0</td>\n",
       "    </tr>\n",
       "    <tr>\n",
       "      <th>4</th>\n",
       "      <td>-0.498213</td>\n",
       "      <td>-1.491170</td>\n",
       "      <td>-0.310698</td>\n",
       "      <td> 0.098150</td>\n",
       "      <td> 0</td>\n",
       "    </tr>\n",
       "    <tr>\n",
       "      <th>5</th>\n",
       "      <td> 0.111512</td>\n",
       "      <td>-0.596836</td>\n",
       "      <td> 0.332071</td>\n",
       "      <td>-1.402941</td>\n",
       "      <td> 0</td>\n",
       "    </tr>\n",
       "    <tr>\n",
       "      <th>6</th>\n",
       "      <td>-0.637744</td>\n",
       "      <td> 0.631031</td>\n",
       "      <td>-0.774373</td>\n",
       "      <td> 1.347731</td>\n",
       "      <td> 0</td>\n",
       "    </tr>\n",
       "    <tr>\n",
       "      <th>7</th>\n",
       "      <td>-0.062214</td>\n",
       "      <td> 0.923697</td>\n",
       "      <td>-0.483668</td>\n",
       "      <td>-1.704253</td>\n",
       "      <td> 0</td>\n",
       "    </tr>\n",
       "    <tr>\n",
       "      <th>8</th>\n",
       "      <td>-0.221024</td>\n",
       "      <td> 1.837167</td>\n",
       "      <td>-1.042690</td>\n",
       "      <td>-0.501895</td>\n",
       "      <td> 0</td>\n",
       "    </tr>\n",
       "    <tr>\n",
       "      <th>9</th>\n",
       "      <td>-0.578375</td>\n",
       "      <td> 2.004424</td>\n",
       "      <td>-0.608020</td>\n",
       "      <td> 1.139545</td>\n",
       "      <td> 0</td>\n",
       "    </tr>\n",
       "  </tbody>\n",
       "</table>\n",
       "</div>"
      ],
      "text/plain": [
       "          x         b         c         d  e\n",
       "0  0.832157  0.229430 -0.490147  1.914329  0\n",
       "1  1.347242  0.166303 -0.366428  0.518549  0\n",
       "2  1.031834 -1.139792 -0.854190  0.915981  0\n",
       "3 -1.698394  1.550522 -0.217250  1.176162  0\n",
       "4 -0.498213 -1.491170 -0.310698  0.098150  0\n",
       "5  0.111512 -0.596836  0.332071 -1.402941  0\n",
       "6 -0.637744  0.631031 -0.774373  1.347731  0\n",
       "7 -0.062214  0.923697 -0.483668 -1.704253  0\n",
       "8 -0.221024  1.837167 -1.042690 -0.501895  0\n",
       "9 -0.578375  2.004424 -0.608020  1.139545  0"
      ]
     },
     "execution_count": 6,
     "metadata": {},
     "output_type": "execute_result"
    }
   ],
   "source": [
    "df1"
   ]
  },
  {
   "cell_type": "code",
   "execution_count": 7,
   "metadata": {
    "collapsed": true
   },
   "outputs": [],
   "source": [
    "df1 = df1.rename(columns = {'x': 'e'})"
   ]
  },
  {
   "cell_type": "code",
   "execution_count": 8,
   "metadata": {
    "collapsed": false
   },
   "outputs": [
    {
     "data": {
      "text/html": [
       "<div style=\"max-height:1000px;max-width:1500px;overflow:auto;\">\n",
       "<table border=\"1\" class=\"dataframe\">\n",
       "  <thead>\n",
       "    <tr style=\"text-align: right;\">\n",
       "      <th></th>\n",
       "      <th>e</th>\n",
       "      <th>b</th>\n",
       "      <th>c</th>\n",
       "      <th>d</th>\n",
       "      <th>e</th>\n",
       "    </tr>\n",
       "  </thead>\n",
       "  <tbody>\n",
       "    <tr>\n",
       "      <th>0</th>\n",
       "      <td> 0.832157</td>\n",
       "      <td> 0.229430</td>\n",
       "      <td>-0.490147</td>\n",
       "      <td> 1.914329</td>\n",
       "      <td> 0</td>\n",
       "    </tr>\n",
       "    <tr>\n",
       "      <th>1</th>\n",
       "      <td> 1.347242</td>\n",
       "      <td> 0.166303</td>\n",
       "      <td>-0.366428</td>\n",
       "      <td> 0.518549</td>\n",
       "      <td> 0</td>\n",
       "    </tr>\n",
       "    <tr>\n",
       "      <th>2</th>\n",
       "      <td> 1.031834</td>\n",
       "      <td>-1.139792</td>\n",
       "      <td>-0.854190</td>\n",
       "      <td> 0.915981</td>\n",
       "      <td> 0</td>\n",
       "    </tr>\n",
       "    <tr>\n",
       "      <th>3</th>\n",
       "      <td>-1.698394</td>\n",
       "      <td> 1.550522</td>\n",
       "      <td>-0.217250</td>\n",
       "      <td> 1.176162</td>\n",
       "      <td> 0</td>\n",
       "    </tr>\n",
       "    <tr>\n",
       "      <th>4</th>\n",
       "      <td>-0.498213</td>\n",
       "      <td>-1.491170</td>\n",
       "      <td>-0.310698</td>\n",
       "      <td> 0.098150</td>\n",
       "      <td> 0</td>\n",
       "    </tr>\n",
       "    <tr>\n",
       "      <th>5</th>\n",
       "      <td> 0.111512</td>\n",
       "      <td>-0.596836</td>\n",
       "      <td> 0.332071</td>\n",
       "      <td>-1.402941</td>\n",
       "      <td> 0</td>\n",
       "    </tr>\n",
       "    <tr>\n",
       "      <th>6</th>\n",
       "      <td>-0.637744</td>\n",
       "      <td> 0.631031</td>\n",
       "      <td>-0.774373</td>\n",
       "      <td> 1.347731</td>\n",
       "      <td> 0</td>\n",
       "    </tr>\n",
       "    <tr>\n",
       "      <th>7</th>\n",
       "      <td>-0.062214</td>\n",
       "      <td> 0.923697</td>\n",
       "      <td>-0.483668</td>\n",
       "      <td>-1.704253</td>\n",
       "      <td> 0</td>\n",
       "    </tr>\n",
       "    <tr>\n",
       "      <th>8</th>\n",
       "      <td>-0.221024</td>\n",
       "      <td> 1.837167</td>\n",
       "      <td>-1.042690</td>\n",
       "      <td>-0.501895</td>\n",
       "      <td> 0</td>\n",
       "    </tr>\n",
       "    <tr>\n",
       "      <th>9</th>\n",
       "      <td>-0.578375</td>\n",
       "      <td> 2.004424</td>\n",
       "      <td>-0.608020</td>\n",
       "      <td> 1.139545</td>\n",
       "      <td> 0</td>\n",
       "    </tr>\n",
       "  </tbody>\n",
       "</table>\n",
       "</div>"
      ],
      "text/plain": [
       "          e         b         c         d  e\n",
       "0  0.832157  0.229430 -0.490147  1.914329  0\n",
       "1  1.347242  0.166303 -0.366428  0.518549  0\n",
       "2  1.031834 -1.139792 -0.854190  0.915981  0\n",
       "3 -1.698394  1.550522 -0.217250  1.176162  0\n",
       "4 -0.498213 -1.491170 -0.310698  0.098150  0\n",
       "5  0.111512 -0.596836  0.332071 -1.402941  0\n",
       "6 -0.637744  0.631031 -0.774373  1.347731  0\n",
       "7 -0.062214  0.923697 -0.483668 -1.704253  0\n",
       "8 -0.221024  1.837167 -1.042690 -0.501895  0\n",
       "9 -0.578375  2.004424 -0.608020  1.139545  0"
      ]
     },
     "execution_count": 8,
     "metadata": {},
     "output_type": "execute_result"
    }
   ],
   "source": [
    "df1"
   ]
  },
  {
   "cell_type": "code",
   "execution_count": 9,
   "metadata": {
    "collapsed": false
   },
   "outputs": [],
   "source": [
    "def f(x):\n",
    "    #print x['b']\n",
    "    return x['b'] / x['c']\n",
    "\n",
    "\n",
    "df1['f'] = df1.apply(f, axis = 1)"
   ]
  },
  {
   "cell_type": "code",
   "execution_count": 10,
   "metadata": {
    "collapsed": false
   },
   "outputs": [
    {
     "data": {
      "text/html": [
       "<div style=\"max-height:1000px;max-width:1500px;overflow:auto;\">\n",
       "<table border=\"1\" class=\"dataframe\">\n",
       "  <thead>\n",
       "    <tr style=\"text-align: right;\">\n",
       "      <th></th>\n",
       "      <th>e</th>\n",
       "      <th>b</th>\n",
       "      <th>c</th>\n",
       "      <th>d</th>\n",
       "      <th>e</th>\n",
       "      <th>f</th>\n",
       "    </tr>\n",
       "  </thead>\n",
       "  <tbody>\n",
       "    <tr>\n",
       "      <th>0</th>\n",
       "      <td> 0.832157</td>\n",
       "      <td> 0.229430</td>\n",
       "      <td>-0.490147</td>\n",
       "      <td> 1.914329</td>\n",
       "      <td> 0</td>\n",
       "      <td>-0.468084</td>\n",
       "    </tr>\n",
       "    <tr>\n",
       "      <th>1</th>\n",
       "      <td> 1.347242</td>\n",
       "      <td> 0.166303</td>\n",
       "      <td>-0.366428</td>\n",
       "      <td> 0.518549</td>\n",
       "      <td> 0</td>\n",
       "      <td>-0.453848</td>\n",
       "    </tr>\n",
       "    <tr>\n",
       "      <th>2</th>\n",
       "      <td> 1.031834</td>\n",
       "      <td>-1.139792</td>\n",
       "      <td>-0.854190</td>\n",
       "      <td> 0.915981</td>\n",
       "      <td> 0</td>\n",
       "      <td> 1.334355</td>\n",
       "    </tr>\n",
       "    <tr>\n",
       "      <th>3</th>\n",
       "      <td>-1.698394</td>\n",
       "      <td> 1.550522</td>\n",
       "      <td>-0.217250</td>\n",
       "      <td> 1.176162</td>\n",
       "      <td> 0</td>\n",
       "      <td>-7.137052</td>\n",
       "    </tr>\n",
       "    <tr>\n",
       "      <th>4</th>\n",
       "      <td>-0.498213</td>\n",
       "      <td>-1.491170</td>\n",
       "      <td>-0.310698</td>\n",
       "      <td> 0.098150</td>\n",
       "      <td> 0</td>\n",
       "      <td> 4.799413</td>\n",
       "    </tr>\n",
       "    <tr>\n",
       "      <th>5</th>\n",
       "      <td> 0.111512</td>\n",
       "      <td>-0.596836</td>\n",
       "      <td> 0.332071</td>\n",
       "      <td>-1.402941</td>\n",
       "      <td> 0</td>\n",
       "      <td>-1.797318</td>\n",
       "    </tr>\n",
       "    <tr>\n",
       "      <th>6</th>\n",
       "      <td>-0.637744</td>\n",
       "      <td> 0.631031</td>\n",
       "      <td>-0.774373</td>\n",
       "      <td> 1.347731</td>\n",
       "      <td> 0</td>\n",
       "      <td>-0.814893</td>\n",
       "    </tr>\n",
       "    <tr>\n",
       "      <th>7</th>\n",
       "      <td>-0.062214</td>\n",
       "      <td> 0.923697</td>\n",
       "      <td>-0.483668</td>\n",
       "      <td>-1.704253</td>\n",
       "      <td> 0</td>\n",
       "      <td>-1.909777</td>\n",
       "    </tr>\n",
       "    <tr>\n",
       "      <th>8</th>\n",
       "      <td>-0.221024</td>\n",
       "      <td> 1.837167</td>\n",
       "      <td>-1.042690</td>\n",
       "      <td>-0.501895</td>\n",
       "      <td> 0</td>\n",
       "      <td>-1.761949</td>\n",
       "    </tr>\n",
       "    <tr>\n",
       "      <th>9</th>\n",
       "      <td>-0.578375</td>\n",
       "      <td> 2.004424</td>\n",
       "      <td>-0.608020</td>\n",
       "      <td> 1.139545</td>\n",
       "      <td> 0</td>\n",
       "      <td>-3.296638</td>\n",
       "    </tr>\n",
       "  </tbody>\n",
       "</table>\n",
       "</div>"
      ],
      "text/plain": [
       "          e         b         c         d  e         f\n",
       "0  0.832157  0.229430 -0.490147  1.914329  0 -0.468084\n",
       "1  1.347242  0.166303 -0.366428  0.518549  0 -0.453848\n",
       "2  1.031834 -1.139792 -0.854190  0.915981  0  1.334355\n",
       "3 -1.698394  1.550522 -0.217250  1.176162  0 -7.137052\n",
       "4 -0.498213 -1.491170 -0.310698  0.098150  0  4.799413\n",
       "5  0.111512 -0.596836  0.332071 -1.402941  0 -1.797318\n",
       "6 -0.637744  0.631031 -0.774373  1.347731  0 -0.814893\n",
       "7 -0.062214  0.923697 -0.483668 -1.704253  0 -1.909777\n",
       "8 -0.221024  1.837167 -1.042690 -0.501895  0 -1.761949\n",
       "9 -0.578375  2.004424 -0.608020  1.139545  0 -3.296638"
      ]
     },
     "execution_count": 10,
     "metadata": {},
     "output_type": "execute_result"
    }
   ],
   "source": [
    "df1"
   ]
  },
  {
   "cell_type": "code",
   "execution_count": 11,
   "metadata": {
    "collapsed": false
   },
   "outputs": [
    {
     "name": "stdout",
     "output_type": "stream",
     "text": [
      "1.33435483904\n"
     ]
    }
   ],
   "source": [
    "abasdfasdf = 'f'\n",
    "\n",
    "df1['f']\n",
    "#df1[abasdfasdf]\n",
    "#df1.column_name(abasdfasdf)\n",
    "\n",
    "x = df1['f']\n",
    "print x[2]"
   ]
  },
  {
   "cell_type": "code",
   "execution_count": 12,
   "metadata": {
    "collapsed": false
   },
   "outputs": [
    {
     "name": "stdout",
     "output_type": "stream",
     "text": [
      "          e         b         c         d  e         f\n",
      "0  0.832157  0.229430 -0.490147  1.914329  0 -0.468084\n",
      "1  1.347242  0.166303 -0.366428  0.518549  0 -0.453848\n",
      "2  1.031834 -1.139792 -0.854190  0.915981  0  1.334355\n",
      "3 -1.698394  1.550522 -0.217250  1.176162  0 -7.137052\n",
      "4 -0.498213 -1.491170 -0.310698  0.098150  0  4.799413\n",
      "5  0.111512 -0.596836  0.332071 -1.402941  0 -1.797318\n",
      "6 -0.637744  0.631031 -0.774373  1.347731  0 -0.814893\n",
      "7 -0.062214  0.923697 -0.483668 -1.704253  0 -1.909777\n",
      "8 -0.221024  1.837167 -1.042690 -0.501895  0 -1.761949\n",
      "9 -0.578375  2.004424 -0.608020  1.139545  0 -3.296638\n",
      "          e         b         c         d  e         f\n",
      "3 -1.698394  1.550522 -0.217250  1.176162  0 -7.137052\n",
      "9 -0.578375  2.004424 -0.608020  1.139545  0 -3.296638\n",
      "7 -0.062214  0.923697 -0.483668 -1.704253  0 -1.909777\n",
      "5  0.111512 -0.596836  0.332071 -1.402941  0 -1.797318\n",
      "8 -0.221024  1.837167 -1.042690 -0.501895  0 -1.761949\n",
      "6 -0.637744  0.631031 -0.774373  1.347731  0 -0.814893\n",
      "0  0.832157  0.229430 -0.490147  1.914329  0 -0.468084\n",
      "1  1.347242  0.166303 -0.366428  0.518549  0 -0.453848\n",
      "2  1.031834 -1.139792 -0.854190  0.915981  0  1.334355\n",
      "4 -0.498213 -1.491170 -0.310698  0.098150  0  4.799413\n"
     ]
    }
   ],
   "source": [
    "sorteddf1 = df1.sort(['f'], axis = 0)\n",
    "print df1\n",
    "print sorteddf1"
   ]
  },
  {
   "cell_type": "code",
   "execution_count": 13,
   "metadata": {
    "collapsed": false
   },
   "outputs": [
    {
     "data": {
      "text/html": [
       "<div style=\"max-height:1000px;max-width:1500px;overflow:auto;\">\n",
       "<table border=\"1\" class=\"dataframe\">\n",
       "  <thead>\n",
       "    <tr style=\"text-align: right;\">\n",
       "      <th></th>\n",
       "      <th>e</th>\n",
       "      <th>b</th>\n",
       "      <th>c</th>\n",
       "      <th>d</th>\n",
       "      <th>e</th>\n",
       "      <th>f</th>\n",
       "      <th>g</th>\n",
       "    </tr>\n",
       "  </thead>\n",
       "  <tbody>\n",
       "    <tr>\n",
       "      <th>3</th>\n",
       "      <td>-1.698394</td>\n",
       "      <td> 1.550522</td>\n",
       "      <td>-0.217250</td>\n",
       "      <td> 1.176162</td>\n",
       "      <td> 0</td>\n",
       "      <td>-7.137052</td>\n",
       "      <td> 0</td>\n",
       "    </tr>\n",
       "    <tr>\n",
       "      <th>9</th>\n",
       "      <td>-0.578375</td>\n",
       "      <td> 2.004424</td>\n",
       "      <td>-0.608020</td>\n",
       "      <td> 1.139545</td>\n",
       "      <td> 0</td>\n",
       "      <td>-3.296638</td>\n",
       "      <td> 0</td>\n",
       "    </tr>\n",
       "    <tr>\n",
       "      <th>7</th>\n",
       "      <td>-0.062214</td>\n",
       "      <td> 0.923697</td>\n",
       "      <td>-0.483668</td>\n",
       "      <td>-1.704253</td>\n",
       "      <td> 0</td>\n",
       "      <td>-1.909777</td>\n",
       "      <td> 0</td>\n",
       "    </tr>\n",
       "    <tr>\n",
       "      <th>5</th>\n",
       "      <td> 0.111512</td>\n",
       "      <td>-0.596836</td>\n",
       "      <td> 0.332071</td>\n",
       "      <td>-1.402941</td>\n",
       "      <td> 0</td>\n",
       "      <td>-1.797318</td>\n",
       "      <td> 0</td>\n",
       "    </tr>\n",
       "    <tr>\n",
       "      <th>8</th>\n",
       "      <td>-0.221024</td>\n",
       "      <td> 1.837167</td>\n",
       "      <td>-1.042690</td>\n",
       "      <td>-0.501895</td>\n",
       "      <td> 0</td>\n",
       "      <td>-1.761949</td>\n",
       "      <td> 0</td>\n",
       "    </tr>\n",
       "    <tr>\n",
       "      <th>6</th>\n",
       "      <td>-0.637744</td>\n",
       "      <td> 0.631031</td>\n",
       "      <td>-0.774373</td>\n",
       "      <td> 1.347731</td>\n",
       "      <td> 0</td>\n",
       "      <td>-0.814893</td>\n",
       "      <td> 1</td>\n",
       "    </tr>\n",
       "    <tr>\n",
       "      <th>0</th>\n",
       "      <td> 0.832157</td>\n",
       "      <td> 0.229430</td>\n",
       "      <td>-0.490147</td>\n",
       "      <td> 1.914329</td>\n",
       "      <td> 0</td>\n",
       "      <td>-0.468084</td>\n",
       "      <td> 1</td>\n",
       "    </tr>\n",
       "    <tr>\n",
       "      <th>1</th>\n",
       "      <td> 1.347242</td>\n",
       "      <td> 0.166303</td>\n",
       "      <td>-0.366428</td>\n",
       "      <td> 0.518549</td>\n",
       "      <td> 0</td>\n",
       "      <td>-0.453848</td>\n",
       "      <td> 1</td>\n",
       "    </tr>\n",
       "    <tr>\n",
       "      <th>2</th>\n",
       "      <td> 1.031834</td>\n",
       "      <td>-1.139792</td>\n",
       "      <td>-0.854190</td>\n",
       "      <td> 0.915981</td>\n",
       "      <td> 0</td>\n",
       "      <td> 1.334355</td>\n",
       "      <td> 1</td>\n",
       "    </tr>\n",
       "    <tr>\n",
       "      <th>4</th>\n",
       "      <td>-0.498213</td>\n",
       "      <td>-1.491170</td>\n",
       "      <td>-0.310698</td>\n",
       "      <td> 0.098150</td>\n",
       "      <td> 0</td>\n",
       "      <td> 4.799413</td>\n",
       "      <td> 1</td>\n",
       "    </tr>\n",
       "  </tbody>\n",
       "</table>\n",
       "</div>"
      ],
      "text/plain": [
       "          e         b         c         d  e         f  g\n",
       "3 -1.698394  1.550522 -0.217250  1.176162  0 -7.137052  0\n",
       "9 -0.578375  2.004424 -0.608020  1.139545  0 -3.296638  0\n",
       "7 -0.062214  0.923697 -0.483668 -1.704253  0 -1.909777  0\n",
       "5  0.111512 -0.596836  0.332071 -1.402941  0 -1.797318  0\n",
       "8 -0.221024  1.837167 -1.042690 -0.501895  0 -1.761949  0\n",
       "6 -0.637744  0.631031 -0.774373  1.347731  0 -0.814893  1\n",
       "0  0.832157  0.229430 -0.490147  1.914329  0 -0.468084  1\n",
       "1  1.347242  0.166303 -0.366428  0.518549  0 -0.453848  1\n",
       "2  1.031834 -1.139792 -0.854190  0.915981  0  1.334355  1\n",
       "4 -0.498213 -1.491170 -0.310698  0.098150  0  4.799413  1"
      ]
     },
     "execution_count": 13,
     "metadata": {},
     "output_type": "execute_result"
    }
   ],
   "source": [
    "sorteddf1['g'] = [0, 0, 0, 0, 0, 1, 1, 1, 1, 1]\n",
    "sorteddf1"
   ]
  },
  {
   "cell_type": "code",
   "execution_count": 27,
   "metadata": {
    "collapsed": false
   },
   "outputs": [
    {
     "data": {
      "text/html": [
       "<div style=\"max-height:1000px;max-width:1500px;overflow:auto;\">\n",
       "<table border=\"1\" class=\"dataframe\">\n",
       "  <thead>\n",
       "    <tr style=\"text-align: right;\">\n",
       "      <th></th>\n",
       "      <th>e</th>\n",
       "      <th>b</th>\n",
       "      <th>c</th>\n",
       "      <th>d</th>\n",
       "      <th>e</th>\n",
       "      <th>f</th>\n",
       "      <th>g</th>\n",
       "      <th>h</th>\n",
       "    </tr>\n",
       "  </thead>\n",
       "  <tbody>\n",
       "    <tr>\n",
       "      <th>3</th>\n",
       "      <td>-1.698394</td>\n",
       "      <td> 1.550522</td>\n",
       "      <td>-0.217250</td>\n",
       "      <td> 1.176162</td>\n",
       "      <td> 0</td>\n",
       "      <td>-7.137052</td>\n",
       "      <td> 0</td>\n",
       "      <td> 2</td>\n",
       "    </tr>\n",
       "    <tr>\n",
       "      <th>9</th>\n",
       "      <td>-0.578375</td>\n",
       "      <td> 2.004424</td>\n",
       "      <td>-0.608020</td>\n",
       "      <td> 1.139545</td>\n",
       "      <td> 0</td>\n",
       "      <td>-3.296638</td>\n",
       "      <td> 0</td>\n",
       "      <td> 2</td>\n",
       "    </tr>\n",
       "    <tr>\n",
       "      <th>7</th>\n",
       "      <td>-0.062214</td>\n",
       "      <td> 0.923697</td>\n",
       "      <td>-0.483668</td>\n",
       "      <td>-1.704253</td>\n",
       "      <td> 0</td>\n",
       "      <td>-1.909777</td>\n",
       "      <td> 0</td>\n",
       "      <td> 2</td>\n",
       "    </tr>\n",
       "    <tr>\n",
       "      <th>5</th>\n",
       "      <td> 0.111512</td>\n",
       "      <td>-0.596836</td>\n",
       "      <td> 0.332071</td>\n",
       "      <td>-1.402941</td>\n",
       "      <td> 0</td>\n",
       "      <td>-1.797318</td>\n",
       "      <td> 0</td>\n",
       "      <td> 3</td>\n",
       "    </tr>\n",
       "    <tr>\n",
       "      <th>8</th>\n",
       "      <td>-0.221024</td>\n",
       "      <td> 1.837167</td>\n",
       "      <td>-1.042690</td>\n",
       "      <td>-0.501895</td>\n",
       "      <td> 0</td>\n",
       "      <td>-1.761949</td>\n",
       "      <td> 0</td>\n",
       "      <td> 3</td>\n",
       "    </tr>\n",
       "    <tr>\n",
       "      <th>6</th>\n",
       "      <td>-0.637744</td>\n",
       "      <td> 0.631031</td>\n",
       "      <td>-0.774373</td>\n",
       "      <td> 1.347731</td>\n",
       "      <td> 0</td>\n",
       "      <td>-0.814893</td>\n",
       "      <td> 1</td>\n",
       "      <td> 4</td>\n",
       "    </tr>\n",
       "    <tr>\n",
       "      <th>0</th>\n",
       "      <td> 0.832157</td>\n",
       "      <td> 0.229430</td>\n",
       "      <td>-0.490147</td>\n",
       "      <td> 1.914329</td>\n",
       "      <td> 0</td>\n",
       "      <td>-0.468084</td>\n",
       "      <td> 1</td>\n",
       "      <td> 4</td>\n",
       "    </tr>\n",
       "    <tr>\n",
       "      <th>1</th>\n",
       "      <td> 1.347242</td>\n",
       "      <td> 0.166303</td>\n",
       "      <td>-0.366428</td>\n",
       "      <td> 0.518549</td>\n",
       "      <td> 0</td>\n",
       "      <td>-0.453848</td>\n",
       "      <td> 1</td>\n",
       "      <td> 5</td>\n",
       "    </tr>\n",
       "    <tr>\n",
       "      <th>2</th>\n",
       "      <td> 1.031834</td>\n",
       "      <td>-1.139792</td>\n",
       "      <td>-0.854190</td>\n",
       "      <td> 0.915981</td>\n",
       "      <td> 0</td>\n",
       "      <td> 1.334355</td>\n",
       "      <td> 1</td>\n",
       "      <td> 5</td>\n",
       "    </tr>\n",
       "    <tr>\n",
       "      <th>4</th>\n",
       "      <td>-0.498213</td>\n",
       "      <td>-1.491170</td>\n",
       "      <td>-0.310698</td>\n",
       "      <td> 0.098150</td>\n",
       "      <td> 0</td>\n",
       "      <td> 4.799413</td>\n",
       "      <td> 1</td>\n",
       "      <td> 5</td>\n",
       "    </tr>\n",
       "  </tbody>\n",
       "</table>\n",
       "</div>"
      ],
      "text/plain": [
       "          e         b         c         d  e         f  g  h\n",
       "3 -1.698394  1.550522 -0.217250  1.176162  0 -7.137052  0  2\n",
       "9 -0.578375  2.004424 -0.608020  1.139545  0 -3.296638  0  2\n",
       "7 -0.062214  0.923697 -0.483668 -1.704253  0 -1.909777  0  2\n",
       "5  0.111512 -0.596836  0.332071 -1.402941  0 -1.797318  0  3\n",
       "8 -0.221024  1.837167 -1.042690 -0.501895  0 -1.761949  0  3\n",
       "6 -0.637744  0.631031 -0.774373  1.347731  0 -0.814893  1  4\n",
       "0  0.832157  0.229430 -0.490147  1.914329  0 -0.468084  1  4\n",
       "1  1.347242  0.166303 -0.366428  0.518549  0 -0.453848  1  5\n",
       "2  1.031834 -1.139792 -0.854190  0.915981  0  1.334355  1  5\n",
       "4 -0.498213 -1.491170 -0.310698  0.098150  0  4.799413  1  5"
      ]
     },
     "execution_count": 27,
     "metadata": {},
     "output_type": "execute_result"
    }
   ],
   "source": [
    "sorteddf1['h'] = [2, 2, 2, 3, 3, 4, 4, 5, 5, 5]\n",
    "sorteddf1"
   ]
  },
  {
   "cell_type": "code",
   "execution_count": 30,
   "metadata": {
    "collapsed": false
   },
   "outputs": [
    {
     "name": "stdout",
     "output_type": "stream",
     "text": [
      "(0, 2)\n",
      "          e         b         c         d  e         f  g  h\n",
      "3 -1.698394  1.550522 -0.217250  1.176162  0 -7.137052  0  2\n",
      "9 -0.578375  2.004424 -0.608020  1.139545  0 -3.296638  0  2\n",
      "7 -0.062214  0.923697 -0.483668 -1.704253  0 -1.909777  0  2\n",
      "(0, 3)\n",
      "          e         b         c         d  e         f  g  h\n",
      "5  0.111512 -0.596836  0.332071 -1.402941  0 -1.797318  0  3\n",
      "8 -0.221024  1.837167 -1.042690 -0.501895  0 -1.761949  0  3\n",
      "(1, 4)\n",
      "          e         b         c         d  e         f  g  h\n",
      "6 -0.637744  0.631031 -0.774373  1.347731  0 -0.814893  1  4\n",
      "0  0.832157  0.229430 -0.490147  1.914329  0 -0.468084  1  4\n",
      "(1, 5)\n",
      "          e         b         c         d  e         f  g  h\n",
      "1  1.347242  0.166303 -0.366428  0.518549  0 -0.453848  1  5\n",
      "2  1.031834 -1.139792 -0.854190  0.915981  0  1.334355  1  5\n",
      "4 -0.498213 -1.491170 -0.310698  0.098150  0  4.799413  1  5\n"
     ]
    }
   ],
   "source": [
    "for name, df in sorteddf1.groupby(['g', 'h']):\n",
    "    print name\n",
    "    print df"
   ]
  },
  {
   "cell_type": "code",
   "execution_count": 14,
   "metadata": {
    "collapsed": false
   },
   "outputs": [
    {
     "data": {
      "text/plain": [
       "g\n",
       "0   -3.180547\n",
       "1    0.879389\n",
       "Name: f, dtype: float64"
      ]
     },
     "execution_count": 14,
     "metadata": {},
     "output_type": "execute_result"
    }
   ],
   "source": [
    "avg_of_col_f = sorteddf1.groupby(['g'])['f'].mean()\n",
    "avg_of_col_f"
   ]
  },
  {
   "cell_type": "code",
   "execution_count": 15,
   "metadata": {
    "collapsed": false
   },
   "outputs": [
    {
     "data": {
      "text/html": [
       "<div style=\"max-height:1000px;max-width:1500px;overflow:auto;\">\n",
       "<table border=\"1\" class=\"dataframe\">\n",
       "  <thead>\n",
       "    <tr style=\"text-align: right;\">\n",
       "      <th></th>\n",
       "      <th>f</th>\n",
       "      <th>g</th>\n",
       "      <th>h</th>\n",
       "    </tr>\n",
       "  </thead>\n",
       "  <tbody>\n",
       "    <tr>\n",
       "      <th>0</th>\n",
       "      <td>-7.137052</td>\n",
       "      <td> 0</td>\n",
       "      <td> 2</td>\n",
       "    </tr>\n",
       "    <tr>\n",
       "      <th>1</th>\n",
       "      <td>-3.296638</td>\n",
       "      <td> 0</td>\n",
       "      <td> 2</td>\n",
       "    </tr>\n",
       "    <tr>\n",
       "      <th>2</th>\n",
       "      <td>-1.909777</td>\n",
       "      <td> 0</td>\n",
       "      <td> 3</td>\n",
       "    </tr>\n",
       "    <tr>\n",
       "      <th>3</th>\n",
       "      <td>-1.797318</td>\n",
       "      <td> 0</td>\n",
       "      <td> 3</td>\n",
       "    </tr>\n",
       "    <tr>\n",
       "      <th>4</th>\n",
       "      <td>-1.761949</td>\n",
       "      <td> 0</td>\n",
       "      <td> 3</td>\n",
       "    </tr>\n",
       "    <tr>\n",
       "      <th>5</th>\n",
       "      <td>-0.814893</td>\n",
       "      <td> 1</td>\n",
       "      <td> 4</td>\n",
       "    </tr>\n",
       "    <tr>\n",
       "      <th>6</th>\n",
       "      <td>-0.468084</td>\n",
       "      <td> 1</td>\n",
       "      <td> 4</td>\n",
       "    </tr>\n",
       "    <tr>\n",
       "      <th>7</th>\n",
       "      <td>-0.453848</td>\n",
       "      <td> 1</td>\n",
       "      <td> 5</td>\n",
       "    </tr>\n",
       "    <tr>\n",
       "      <th>8</th>\n",
       "      <td> 1.334355</td>\n",
       "      <td> 1</td>\n",
       "      <td> 5</td>\n",
       "    </tr>\n",
       "    <tr>\n",
       "      <th>9</th>\n",
       "      <td> 4.799413</td>\n",
       "      <td> 1</td>\n",
       "      <td> 5</td>\n",
       "    </tr>\n",
       "  </tbody>\n",
       "</table>\n",
       "</div>"
      ],
      "text/plain": [
       "          f  g  h\n",
       "0 -7.137052  0  2\n",
       "1 -3.296638  0  2\n",
       "2 -1.909777  0  3\n",
       "3 -1.797318  0  3\n",
       "4 -1.761949  0  3\n",
       "5 -0.814893  1  4\n",
       "6 -0.468084  1  4\n",
       "7 -0.453848  1  5\n",
       "8  1.334355  1  5\n",
       "9  4.799413  1  5"
      ]
     },
     "execution_count": 15,
     "metadata": {},
     "output_type": "execute_result"
    }
   ],
   "source": [
    "aggregated_repl_of_col_f = sorteddf1.xs(['f', 'g'], axis = 1)\n",
    "aggregated_repl_of_col_f = aggregated_repl_of_col_f.reset_index(drop = True)\n",
    "aggregated_repl_of_col_f['h'] = [2, 2, 3, 3, 3, 4, 4, 5, 5, 5]\n",
    "aggregated_repl_of_col_f"
   ]
  },
  {
   "cell_type": "code",
   "execution_count": 16,
   "metadata": {
    "collapsed": false
   },
   "outputs": [
    {
     "data": {
      "text/plain": [
       "g  h\n",
       "0  2                    [-7.13705231004, -3.29663821835]\n",
       "   3    [-1.90977686033, -1.79731757027, -1.76194913556]\n",
       "1  4                  [-0.814892938326, -0.468084304458]\n",
       "   5     [-0.453847580497, 1.33435483904, 4.79941316712]\n",
       "Name: f, dtype: object"
      ]
     },
     "execution_count": 16,
     "metadata": {},
     "output_type": "execute_result"
    }
   ],
   "source": [
    "gb = aggregated_repl_of_col_f.groupby(('g', 'h'))\n",
    "result = gb['f'].unique()\n",
    "#result.reset_index(inplace=True) #lastly, reset the index\n",
    "result"
   ]
  },
  {
   "cell_type": "code",
   "execution_count": 17,
   "metadata": {
    "collapsed": false
   },
   "outputs": [
    {
     "data": {
      "text/html": [
       "<div style=\"max-height:1000px;max-width:1500px;overflow:auto;\">\n",
       "<table border=\"1\" class=\"dataframe\">\n",
       "  <thead>\n",
       "    <tr style=\"text-align: right;\">\n",
       "      <th></th>\n",
       "      <th></th>\n",
       "      <th>f</th>\n",
       "    </tr>\n",
       "    <tr>\n",
       "      <th>g</th>\n",
       "      <th>h</th>\n",
       "      <th></th>\n",
       "    </tr>\n",
       "  </thead>\n",
       "  <tbody>\n",
       "    <tr>\n",
       "      <th rowspan=\"2\" valign=\"top\">0</th>\n",
       "      <th>2</th>\n",
       "      <td>                 [-7.13705231004, -3.29663821835]</td>\n",
       "    </tr>\n",
       "    <tr>\n",
       "      <th>3</th>\n",
       "      <td> [-1.90977686033, -1.79731757027, -1.76194913556]</td>\n",
       "    </tr>\n",
       "    <tr>\n",
       "      <th rowspan=\"2\" valign=\"top\">1</th>\n",
       "      <th>4</th>\n",
       "      <td>               [-0.814892938326, -0.468084304458]</td>\n",
       "    </tr>\n",
       "    <tr>\n",
       "      <th>5</th>\n",
       "      <td>  [-0.453847580497, 1.33435483904, 4.79941316712]</td>\n",
       "    </tr>\n",
       "  </tbody>\n",
       "</table>\n",
       "</div>"
      ],
      "text/plain": [
       "                                                    f\n",
       "g h                                                  \n",
       "0 2                  [-7.13705231004, -3.29663821835]\n",
       "  3  [-1.90977686033, -1.79731757027, -1.76194913556]\n",
       "1 4                [-0.814892938326, -0.468084304458]\n",
       "  5   [-0.453847580497, 1.33435483904, 4.79941316712]"
      ]
     },
     "execution_count": 17,
     "metadata": {},
     "output_type": "execute_result"
    }
   ],
   "source": [
    "result = result.to_frame()\n",
    "result"
   ]
  },
  {
   "cell_type": "code",
   "execution_count": 18,
   "metadata": {
    "collapsed": false
   },
   "outputs": [
    {
     "data": {
      "text/html": [
       "<div style=\"max-height:1000px;max-width:1500px;overflow:auto;\">\n",
       "<table border=\"1\" class=\"dataframe\">\n",
       "  <thead>\n",
       "    <tr style=\"text-align: right;\">\n",
       "      <th></th>\n",
       "      <th></th>\n",
       "      <th>f</th>\n",
       "      <th>i</th>\n",
       "      <th>j</th>\n",
       "    </tr>\n",
       "    <tr>\n",
       "      <th>g</th>\n",
       "      <th>h</th>\n",
       "      <th></th>\n",
       "      <th></th>\n",
       "      <th></th>\n",
       "    </tr>\n",
       "  </thead>\n",
       "  <tbody>\n",
       "    <tr>\n",
       "      <th rowspan=\"2\" valign=\"top\">0</th>\n",
       "      <th>2</th>\n",
       "      <td>                 [-7.13705231004, -3.29663821835]</td>\n",
       "      <td> 0</td>\n",
       "      <td> 0.01</td>\n",
       "    </tr>\n",
       "    <tr>\n",
       "      <th>3</th>\n",
       "      <td> [-1.90977686033, -1.79731757027, -1.76194913556]</td>\n",
       "      <td> 1</td>\n",
       "      <td> 0.01</td>\n",
       "    </tr>\n",
       "    <tr>\n",
       "      <th rowspan=\"2\" valign=\"top\">1</th>\n",
       "      <th>4</th>\n",
       "      <td>               [-0.814892938326, -0.468084304458]</td>\n",
       "      <td> 2</td>\n",
       "      <td> 0.01</td>\n",
       "    </tr>\n",
       "    <tr>\n",
       "      <th>5</th>\n",
       "      <td>  [-0.453847580497, 1.33435483904, 4.79941316712]</td>\n",
       "      <td> 3</td>\n",
       "      <td> 0.05</td>\n",
       "    </tr>\n",
       "  </tbody>\n",
       "</table>\n",
       "</div>"
      ],
      "text/plain": [
       "                                                    f  i     j\n",
       "g h                                                           \n",
       "0 2                  [-7.13705231004, -3.29663821835]  0  0.01\n",
       "  3  [-1.90977686033, -1.79731757027, -1.76194913556]  1  0.01\n",
       "1 4                [-0.814892938326, -0.468084304458]  2  0.01\n",
       "  5   [-0.453847580497, 1.33435483904, 4.79941316712]  3  0.05"
      ]
     },
     "execution_count": 18,
     "metadata": {},
     "output_type": "execute_result"
    }
   ],
   "source": [
    "result['i'] = [0, 1, 2, 3]\n",
    "\n",
    "result['j'] = [0.01, 0.01, 0.01, 0.05]\n",
    "\n",
    "result"
   ]
  },
  {
   "cell_type": "code",
   "execution_count": 19,
   "metadata": {
    "collapsed": false
   },
   "outputs": [],
   "source": [
    "#result_analyses = result.reset_index()\n",
    "\n",
    "#result_analyses = result_analyses.groupby(['g', 'h'])['f'].mean()\n",
    "\n",
    "#result_analyses"
   ]
  },
  {
   "cell_type": "code",
   "execution_count": 20,
   "metadata": {
    "collapsed": false
   },
   "outputs": [
    {
     "data": {
      "text/plain": [
       "f    [-0.453847580497, 1.33435483904, 4.79941316712]\n",
       "i                                                  3\n",
       "j                                               0.05\n",
       "Name: (1, 5), dtype: object"
      ]
     },
     "execution_count": 20,
     "metadata": {},
     "output_type": "execute_result"
    }
   ],
   "source": [
    "result.loc[(1, 5)]"
   ]
  },
  {
   "cell_type": "code",
   "execution_count": 21,
   "metadata": {
    "collapsed": false
   },
   "outputs": [
    {
     "name": "stdout",
     "output_type": "stream",
     "text": [
      "0\n",
      "                                                    f  i     j\n",
      "g h                                                           \n",
      "0 2                  [-7.13705231004, -3.29663821835]  0  0.01\n",
      "  3  [-1.90977686033, -1.79731757027, -1.76194913556]  1  0.01\n",
      "1\n",
      "                                                   f  i     j\n",
      "g h                                                          \n",
      "1 4               [-0.814892938326, -0.468084304458]  2  0.01\n",
      "  5  [-0.453847580497, 1.33435483904, 4.79941316712]  3  0.05\n"
     ]
    }
   ],
   "source": [
    "for group_name, group_df in result.groupby(level = 0):\n",
    "    print group_name\n",
    "    print group_df"
   ]
  },
  {
   "cell_type": "code",
   "execution_count": 22,
   "metadata": {
    "collapsed": false
   },
   "outputs": [
    {
     "data": {
      "text/html": [
       "<div style=\"max-height:1000px;max-width:1500px;overflow:auto;\">\n",
       "<table border=\"1\" class=\"dataframe\">\n",
       "  <thead>\n",
       "    <tr style=\"text-align: right;\">\n",
       "      <th></th>\n",
       "      <th>g</th>\n",
       "      <th>h</th>\n",
       "      <th>f</th>\n",
       "      <th>i</th>\n",
       "      <th>j</th>\n",
       "    </tr>\n",
       "  </thead>\n",
       "  <tbody>\n",
       "    <tr>\n",
       "      <th>0</th>\n",
       "      <td> 0</td>\n",
       "      <td> 2</td>\n",
       "      <td>                 [-7.13705231004, -3.29663821835]</td>\n",
       "      <td> 0</td>\n",
       "      <td> 0.01</td>\n",
       "    </tr>\n",
       "    <tr>\n",
       "      <th>1</th>\n",
       "      <td> 0</td>\n",
       "      <td> 3</td>\n",
       "      <td> [-1.90977686033, -1.79731757027, -1.76194913556]</td>\n",
       "      <td> 1</td>\n",
       "      <td> 0.01</td>\n",
       "    </tr>\n",
       "    <tr>\n",
       "      <th>2</th>\n",
       "      <td> 1</td>\n",
       "      <td> 4</td>\n",
       "      <td>               [-0.814892938326, -0.468084304458]</td>\n",
       "      <td> 2</td>\n",
       "      <td> 0.01</td>\n",
       "    </tr>\n",
       "    <tr>\n",
       "      <th>3</th>\n",
       "      <td> 1</td>\n",
       "      <td> 5</td>\n",
       "      <td>  [-0.453847580497, 1.33435483904, 4.79941316712]</td>\n",
       "      <td> 3</td>\n",
       "      <td> 0.05</td>\n",
       "    </tr>\n",
       "  </tbody>\n",
       "</table>\n",
       "</div>"
      ],
      "text/plain": [
       "   g  h                                                 f  i     j\n",
       "0  0  2                  [-7.13705231004, -3.29663821835]  0  0.01\n",
       "1  0  3  [-1.90977686033, -1.79731757027, -1.76194913556]  1  0.01\n",
       "2  1  4                [-0.814892938326, -0.468084304458]  2  0.01\n",
       "3  1  5   [-0.453847580497, 1.33435483904, 4.79941316712]  3  0.05"
      ]
     },
     "execution_count": 22,
     "metadata": {},
     "output_type": "execute_result"
    }
   ],
   "source": [
    "df = result.reset_index()\n",
    "df"
   ]
  },
  {
   "cell_type": "code",
   "execution_count": 23,
   "metadata": {
    "collapsed": false
   },
   "outputs": [
    {
     "data": {
      "text/plain": [
       "g                                                  1\n",
       "h                                                  5\n",
       "f    [-0.453847580497, 1.33435483904, 4.79941316712]\n",
       "i                                                  3\n",
       "j                                               0.05\n",
       "Name: 3, dtype: object"
      ]
     },
     "execution_count": 23,
     "metadata": {},
     "output_type": "execute_result"
    }
   ],
   "source": [
    "df.loc[3]"
   ]
  },
  {
   "cell_type": "code",
   "execution_count": 24,
   "metadata": {
    "collapsed": false
   },
   "outputs": [
    {
     "name": "stdout",
     "output_type": "stream",
     "text": [
      "(0,    g  h                                                 f  i     j\n",
      "0  0  2                  [-7.13705231004, -3.29663821835]  0  0.01\n",
      "1  0  3  [-1.90977686033, -1.79731757027, -1.76194913556]  1  0.01)\n",
      "(1,    g  h                                                f  i     j\n",
      "2  1  4               [-0.814892938326, -0.468084304458]  2  0.01\n",
      "3  1  5  [-0.453847580497, 1.33435483904, 4.79941316712]  3  0.05)\n"
     ]
    }
   ],
   "source": [
    "\n",
    "for x in df.groupby('g'):\n",
    "    print x"
   ]
  },
  {
   "cell_type": "code",
   "execution_count": 25,
   "metadata": {
    "collapsed": false
   },
   "outputs": [
    {
     "ename": "AttributeError",
     "evalue": "'DataFrame' object has no attribute 'iter'",
     "output_type": "error",
     "traceback": [
      "\u001b[0;31m---------------------------------------------------------------------------\u001b[0m",
      "\u001b[0;31mAttributeError\u001b[0m                            Traceback (most recent call last)",
      "\u001b[0;32m<ipython-input-25-e5dad755c81e>\u001b[0m in \u001b[0;36m<module>\u001b[0;34m()\u001b[0m\n\u001b[1;32m      1\u001b[0m \u001b[0mresult_index_g\u001b[0m \u001b[0;34m=\u001b[0m \u001b[0mresult\u001b[0m\u001b[0;34m.\u001b[0m\u001b[0mindex\u001b[0m\u001b[0;34m.\u001b[0m\u001b[0mlevels\u001b[0m\u001b[0;34m[\u001b[0m\u001b[0;36m0\u001b[0m\u001b[0;34m]\u001b[0m\u001b[0;34m\u001b[0m\u001b[0m\n\u001b[1;32m      2\u001b[0m \u001b[0;34m\u001b[0m\u001b[0m\n\u001b[0;32m----> 3\u001b[0;31m \u001b[0;32mfor\u001b[0m \u001b[0mx\u001b[0m \u001b[0;32min\u001b[0m \u001b[0mresult\u001b[0m\u001b[0;34m.\u001b[0m\u001b[0miter\u001b[0m\u001b[0;34m:\u001b[0m\u001b[0;34m\u001b[0m\u001b[0m\n\u001b[0m\u001b[1;32m      4\u001b[0m     \u001b[0;32mprint\u001b[0m \u001b[0;34m'aha'\u001b[0m\u001b[0;34m\u001b[0m\u001b[0m\n\u001b[1;32m      5\u001b[0m \u001b[0;34m\u001b[0m\u001b[0m\n",
      "\u001b[0;32m//anaconda/lib/python2.7/site-packages/pandas/core/generic.pyc\u001b[0m in \u001b[0;36m__getattr__\u001b[0;34m(self, name)\u001b[0m\n\u001b[1;32m   1841\u001b[0m                 \u001b[0;32mreturn\u001b[0m \u001b[0mself\u001b[0m\u001b[0;34m[\u001b[0m\u001b[0mname\u001b[0m\u001b[0;34m]\u001b[0m\u001b[0;34m\u001b[0m\u001b[0m\n\u001b[1;32m   1842\u001b[0m             raise AttributeError(\"'%s' object has no attribute '%s'\" %\n\u001b[0;32m-> 1843\u001b[0;31m                                  (type(self).__name__, name))\n\u001b[0m\u001b[1;32m   1844\u001b[0m \u001b[0;34m\u001b[0m\u001b[0m\n\u001b[1;32m   1845\u001b[0m     \u001b[0;32mdef\u001b[0m \u001b[0m__setattr__\u001b[0m\u001b[0;34m(\u001b[0m\u001b[0mself\u001b[0m\u001b[0;34m,\u001b[0m \u001b[0mname\u001b[0m\u001b[0;34m,\u001b[0m \u001b[0mvalue\u001b[0m\u001b[0;34m)\u001b[0m\u001b[0;34m:\u001b[0m\u001b[0;34m\u001b[0m\u001b[0m\n",
      "\u001b[0;31mAttributeError\u001b[0m: 'DataFrame' object has no attribute 'iter'"
     ]
    }
   ],
   "source": [
    "result_index_g = result.index.levels[0]\n",
    "\n",
    "for x in result.iter:\n",
    "    print 'aha'\n",
    "    \n",
    "    print result['{}'.format(x)]\n",
    "    \n"
   ]
  },
  {
   "cell_type": "code",
   "execution_count": null,
   "metadata": {
    "collapsed": true
   },
   "outputs": [],
   "source": []
  }
 ],
 "metadata": {
  "kernelspec": {
   "display_name": "Python 2",
   "language": "python",
   "name": "python2"
  },
  "language_info": {
   "codemirror_mode": {
    "name": "ipython",
    "version": 2
   },
   "file_extension": ".py",
   "mimetype": "text/x-python",
   "name": "python",
   "nbconvert_exporter": "python",
   "pygments_lexer": "ipython2",
   "version": "2.7.10"
  }
 },
 "nbformat": 4,
 "nbformat_minor": 0
}
