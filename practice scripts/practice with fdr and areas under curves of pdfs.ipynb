{
 "cells": [
  {
   "cell_type": "code",
   "execution_count": 2,
   "metadata": {
    "collapsed": true
   },
   "outputs": [],
   "source": [
    "import numpy as np\n",
    "import csv\n",
    "import matplotlib.pyplot as plt\n",
    "import scipy\n",
    "import scipy.stats\n",
    "\n"
   ]
  },
  {
   "cell_type": "code",
   "execution_count": 3,
   "metadata": {
    "collapsed": false
   },
   "outputs": [
    {
     "name": "stdout",
     "output_type": "stream",
     "text": [
      "[ 0.8346866   0.5844821   1.63592991 ..., -0.33068075 -0.72248948\n",
      " -0.18430033]\n",
      "[  8.34686600e-05   5.84482101e-05   1.63592991e-04 ...,  -3.30680752e-05\n",
      "  -7.22489480e-05  -1.84300326e-05]\n",
      "[  8.34686600e-05   5.84482101e-05   1.63592991e-04 ...,   3.30680752e-05\n",
      "   7.22489480e-05   1.84300326e-05]\n",
      "7.96231349749e-05\n",
      "[  8.34686600e-05   5.84482101e-05   1.63592991e-04 ...,   3.30680752e-05\n",
      "   7.22489480e-05   1.84300326e-05]\n"
     ]
    }
   ],
   "source": [
    "fdr = 0.05\n",
    "\n",
    "size = 16*16*24\n",
    "\n",
    "y = scipy.stats.norm.rvs(size=size)\n",
    "print(y)\n",
    "#x = y.view('f8, f8, f8')\n",
    "#print(x)\n",
    "y = y * 0.0001\n",
    "print(y)\n",
    "y = np.absolute(y)\n",
    "print(y)\n",
    "#print(np.average(y))\n",
    "#print(np.std(y))\n",
    "\n",
    "y = np.reshape(y, (16, 16, 24), order = 'C')\n",
    "#print(y)\n",
    "\n",
    "overall_avg = np.average(y)\n",
    "print(overall_avg)\n",
    "\n",
    "y = np.reshape(y, 16*16*24)\n",
    "print y"
   ]
  },
  {
   "cell_type": "code",
   "execution_count": 7,
   "metadata": {
    "collapsed": false
   },
   "outputs": [
    {
     "name": "stdout",
     "output_type": "stream",
     "text": [
      "8.13802083333e-06\n",
      "[]\n"
     ]
    }
   ],
   "source": [
    "sorted_y = np.sort(y)\n",
    "#print(sorted_y)\n",
    "\n",
    "#benjamini hochberg method to control FDR\n",
    "#needed to add the decimals to insure that k, i, and m are initialized as float rather\n",
    "#than ints\n",
    "k = 1.0\n",
    "i = 0.0\n",
    "m = 16.0*16.0*24.0\n",
    "hits = []\n",
    "\n",
    "print(k/m*fdr)\n",
    "\n",
    "while y[i] < (k / m * fdr):\n",
    "    hit = y[i]\n",
    "    hits.append(hit)\n",
    "    i += 1\n",
    "    print(i)\n",
    "    k += 1\n",
    "    print(k)\n",
    "    \n",
    "print(hits)"
   ]
  },
  {
   "cell_type": "code",
   "execution_count": 47,
   "metadata": {
    "collapsed": false
   },
   "outputs": [
    {
     "name": "stdout",
     "output_type": "stream",
     "text": [
      "0.159862077892\n",
      "0.840137922108\n"
     ]
    }
   ],
   "source": [
    "#find area under the probability density function\n",
    "prob = scipy.stats.t.sf(1, 100)\n",
    "print(prob)\n",
    "\n",
    "prob2 = scipy.stats.t.cdf(1, 100)\n",
    "print(prob2)"
   ]
  },
  {
   "cell_type": "code",
   "execution_count": null,
   "metadata": {
    "collapsed": true
   },
   "outputs": [],
   "source": []
  }
 ],
 "metadata": {
  "kernelspec": {
   "display_name": "Python 2",
   "language": "python",
   "name": "python2"
  },
  "language_info": {
   "codemirror_mode": {
    "name": "ipython",
    "version": 2
   },
   "file_extension": ".py",
   "mimetype": "text/x-python",
   "name": "python",
   "nbconvert_exporter": "python",
   "pygments_lexer": "ipython2",
   "version": "2.7.10"
  }
 },
 "nbformat": 4,
 "nbformat_minor": 0
}
