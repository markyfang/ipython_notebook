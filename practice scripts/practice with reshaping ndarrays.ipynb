{
 "cells": [
  {
   "cell_type": "code",
   "execution_count": 7,
   "metadata": {
    "collapsed": false
   },
   "outputs": [
    {
     "name": "stdout",
     "output_type": "stream",
     "text": [
      "(4, 6)\n",
      "[ 1.0637  1.0678  1.0719  1.0763  1.0807  1.0857]\n",
      "[[ 1.0637  1.0719  1.0807]\n",
      " [ 1.0678  1.0763  1.0857]]\n",
      "[[0 1]\n",
      " [2 3]\n",
      " [4 5]]\n",
      "[1 3 5]\n",
      "[[0 4 3]\n",
      " [2 1 5]]\n",
      "[[0 2 4]\n",
      " [1 3 5]]\n"
     ]
    }
   ],
   "source": [
    "import numpy as np\n",
    "import csv\n",
    "#with open('/Users/markfang/Dropbox/UCSD Grad work/RNA-Yeo Lab/Python scripts/ArizonaTmp.csv', 'rU') as data_file:\n",
    "data_file = open('/Users/markfang/Dropbox/UCSD Grad work/RNA-Yeo Lab/ipython test data/ripley.csv', 'rU')\n",
    "data_table = np.genfromtxt(data_file, delimiter=\",\")\n",
    "print(np.shape(data_table))\n",
    "print(data_table[0,:])\n",
    "#note that order applies to both how the original ndarray is read, and how the new\n",
    "#ndarray is written.  to separately denote how the original ndarray is to be read,\n",
    "#try using the ravel function\n",
    "print(np.reshape(data_table[0,:], (2,3), order = 'F'))\n",
    "\n",
    "\n",
    "\n",
    "\n",
    "a = np.arange(6).reshape((3, 2))\n",
    "print(a)\n",
    "print(a[:,1])\n",
    "#practice with the ravel function\n",
    "print(np.reshape(np.ravel(a, order='F'), (2, 3), order='F'))\n",
    "print(np.reshape(np.ravel(a, order='C'), (2, 3), order='F'))"
   ]
  },
  {
   "cell_type": "code",
   "execution_count": null,
   "metadata": {
    "collapsed": true
   },
   "outputs": [],
   "source": []
  }
 ],
 "metadata": {
  "kernelspec": {
   "display_name": "Python 2",
   "language": "python",
   "name": "python2"
  },
  "language_info": {
   "codemirror_mode": {
    "name": "ipython",
    "version": 2
   },
   "file_extension": ".py",
   "mimetype": "text/x-python",
   "name": "python",
   "nbconvert_exporter": "python",
   "pygments_lexer": "ipython2",
   "version": "2.7.10"
  }
 },
 "nbformat": 4,
 "nbformat_minor": 0
}
