{
 "cells": [
  {
   "cell_type": "code",
   "execution_count": 10,
   "metadata": {
    "collapsed": true
   },
   "outputs": [],
   "source": [
    "import numpy as np\n",
    "import csv\n",
    "import matplotlib.pyplot as plt\n",
    "import scipy\n",
    "import scipy.stats\n",
    "import math"
   ]
  },
  {
   "cell_type": "code",
   "execution_count": 11,
   "metadata": {
    "collapsed": false
   },
   "outputs": [
    {
     "name": "stdout",
     "output_type": "stream",
     "text": [
      "[1, -2, -10, 5]\n",
      "[1, -2, -10, 5]\n",
      "[10, 10, 11, 9]\n",
      "[1, -2, -10, 5, 10, 10, 11, 9]\n",
      "[[ 1 10]\n",
      " [ 2 10]\n",
      " [10 11]\n",
      " [ 5  9]]\n",
      "[ 1.  2.  4.  3.]\n",
      "[[  1.   1.  10.]\n",
      " [  2.   2.  10.]\n",
      " [  4.  10.  11.]\n",
      " [  3.   5.   9.]]\n",
      "[[  1.   1.  10.]\n",
      " [  2.   2.  10.]\n",
      " [  3.   5.   9.]\n",
      " [  4.  10.  11.]]\n"
     ]
    }
   ],
   "source": [
    "TEST_VAR1 = 10\n",
    "TEST_VAR2 = 11.0\n",
    "TEST_VAR3 = 'blah'\n",
    "\n",
    "#by default, csv.writer will write each new object (e.g. char, int, float) into a new cell, unless the group\n",
    "#of objects is bracketed into a list with square brackets (thus the double brackets)\n",
    "#with open ('150701 sg results/test writing.csv','w') as test_outputfile:\n",
    "#    writer = csv.writer(test_outputfile, delimiter = ',')\n",
    "#    writer.writerows([['test_var 1 is:', '%i' % TEST_VAR1], ['test_var 2 is:', '%f' % TEST_VAR2]])\n",
    "#    writer.writerows([['test_var 3 is:', '%s' % TEST_VAR3]])\n",
    "\n",
    "    \n",
    "    \n",
    "var1 = -1\n",
    "var2 = 2\n",
    "var3 = 10\n",
    "var4 = -5\n",
    "var5 = 10\n",
    "var6 = 10\n",
    "var7 = 11\n",
    "var8 = 9\n",
    "\n",
    "arr1 = [var1, var2, var3, var4]\n",
    "\n",
    "arr2 = [var5, var6, var7, var8]\n",
    "\n",
    "\n",
    "arr1 = [-x for x in arr1]\n",
    "print(arr1)\n",
    "\n",
    "\n",
    "a = arr1\n",
    "b = arr2\n",
    "\n",
    "print(a)\n",
    "print(b)\n",
    "a = a + b\n",
    "print(a)\n",
    "\n",
    "#zipped1 = zip(absarr, arr2)\n",
    "\n",
    "#print(zipped1)\n",
    "absarr = np.absolute(arr1)\n",
    "\n",
    "arr2 = np.asarray(arr2)\n",
    "arr1 = absarr[:, np.newaxis]\n",
    "arr2 = arr2[:, np.newaxis]\n",
    "\n",
    "\n",
    "\n",
    "combined = np.concatenate((arr1, arr2), axis = 1)\n",
    "print(combined)\n",
    "\n",
    "ranks = scipy.stats.rankdata(combined[:, 0])\n",
    "print(ranks)\n",
    "\n",
    "ranks = np.asarray(ranks)\n",
    "ranks = ranks[:, np.newaxis]\n",
    "\n",
    "combined = np.concatenate((ranks, combined), axis = 1)\n",
    "print(combined)\n",
    "\n",
    "combined = np.ndarray.tolist(combined)\n",
    "\n",
    "combined.sort()\n",
    "combined = np.asarray(combined)\n",
    "print(combined)\n"
   ]
  },
  {
   "cell_type": "code",
   "execution_count": null,
   "metadata": {
    "collapsed": true
   },
   "outputs": [],
   "source": []
  }
 ],
 "metadata": {
  "kernelspec": {
   "display_name": "Python 2",
   "language": "python",
   "name": "python2"
  },
  "language_info": {
   "codemirror_mode": {
    "name": "ipython",
    "version": 2
   },
   "file_extension": ".py",
   "mimetype": "text/x-python",
   "name": "python",
   "nbconvert_exporter": "python",
   "pygments_lexer": "ipython2",
   "version": "2.7.10"
  }
 },
 "nbformat": 4,
 "nbformat_minor": 0
}
