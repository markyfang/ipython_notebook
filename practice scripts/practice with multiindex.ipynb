{
 "cells": [
  {
   "cell_type": "code",
   "execution_count": 1,
   "metadata": {
    "collapsed": true
   },
   "outputs": [],
   "source": [
    "import numpy as np\n",
    "import csv\n",
    "import matplotlib.pyplot as plt\n",
    "import scipy\n",
    "import scipy.stats\n",
    "import math\n",
    "import pandas as pd"
   ]
  },
  {
   "cell_type": "code",
   "execution_count": 2,
   "metadata": {
    "collapsed": false
   },
   "outputs": [
    {
     "name": "stdout",
     "output_type": "stream",
     "text": [
      "[1, 2, 3, 4, 5, 6]\n",
      "8.45833333333\n"
     ]
    }
   ],
   "source": [
    "arr1 = range(1,7)\n",
    "print(arr1)\n",
    "arr2 = arr1\n",
    "arr3 = arr1\n",
    "\n",
    "\n",
    "iterable = [arr1, arr2, arr3]\n",
    "\n",
    "multii = pd.MultiIndex.from_product(iterable)\n",
    "#print(multii)\n",
    "\n",
    "prod = []\n",
    "\n",
    "for i in range(0, 216):\n",
    "    maxim = max(multii[i][0], multii[i][1], multii[i][2])\n",
    "    median = np.median(multii[i][:])\n",
    "    addit = maxim + median\n",
    "    prod.append(addit)\n",
    "    \n",
    "print(np.mean(prod))\n",
    "    \n"
   ]
  },
  {
   "cell_type": "code",
   "execution_count": null,
   "metadata": {
    "collapsed": true
   },
   "outputs": [],
   "source": []
  }
 ],
 "metadata": {
  "kernelspec": {
   "display_name": "Python 2",
   "language": "python",
   "name": "python2"
  },
  "language_info": {
   "codemirror_mode": {
    "name": "ipython",
    "version": 2
   },
   "file_extension": ".py",
   "mimetype": "text/x-python",
   "name": "python",
   "nbconvert_exporter": "python",
   "pygments_lexer": "ipython2",
   "version": "2.7.10"
  }
 },
 "nbformat": 4,
 "nbformat_minor": 0
}
