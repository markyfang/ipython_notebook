{
 "cells": [
  {
   "cell_type": "code",
   "execution_count": 12,
   "metadata": {
    "collapsed": false
   },
   "outputs": [
    {
     "name": "stdout",
     "output_type": "stream",
     "text": [
      "(1.0269354333553167, 0.38001381977056736)\n",
      "(40.999999999999986, 3.1929335481276777e-05)\n"
     ]
    }
   ],
   "source": [
    "import numpy as np\n",
    "import scipy as sp\n",
    "import csv\n",
    "\n",
    "a = [1, 1, 100, 0.01]\n",
    "b = [0.001, 0.001, 0.0011, 0.001]\n",
    "\n",
    "from scipy import stats\n",
    "a_ttest = stats.ttest_1samp(a, 0)\n",
    "print(a_ttest)\n",
    "b_ttest = stats.ttest_1samp(b, 0)\n",
    "print(b_ttest)"
   ]
  },
  {
   "cell_type": "code",
   "execution_count": null,
   "metadata": {
    "collapsed": true
   },
   "outputs": [],
   "source": []
  }
 ],
 "metadata": {
  "kernelspec": {
   "display_name": "Python 2",
   "language": "python",
   "name": "python2"
  },
  "language_info": {
   "codemirror_mode": {
    "name": "ipython",
    "version": 2
   },
   "file_extension": ".py",
   "mimetype": "text/x-python",
   "name": "python",
   "nbconvert_exporter": "python",
   "pygments_lexer": "ipython2",
   "version": "2.7.9"
  }
 },
 "nbformat": 4,
 "nbformat_minor": 0
}
