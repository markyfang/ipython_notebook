{
 "cells": [
  {
   "cell_type": "code",
   "execution_count": 1,
   "metadata": {
    "collapsed": true
   },
   "outputs": [],
   "source": [
    "%matplotlib inline\n",
    "\n",
    "import numpy as np; np.random.seed(0)\n",
    "import csv\n",
    "import matplotlib\n",
    "import matplotlib.pyplot as plt\n",
    "import scipy\n",
    "import scipy.stats\n",
    "import math\n",
    "import seaborn as sns; sns.set()"
   ]
  },
  {
   "cell_type": "code",
   "execution_count": 2,
   "metadata": {
    "collapsed": false
   },
   "outputs": [
    {
     "name": "stdout",
     "output_type": "stream",
     "text": [
      "[[ -1.65438750e-02   1.62971290e-02              nan]\n",
      " [ -3.64764710e-02   5.14576200e-03              nan]\n",
      " [ -1.98367300e-02   0.00000000e+00              nan]\n",
      " [ -1.89581970e-02   1.30356700e-03              nan]\n",
      " [ -9.86189300e-03  -7.03872000e-05              nan]\n",
      " [ -3.16820400e-03   6.76495900e-03              nan]\n",
      " [ -1.76299250e-02   0.00000000e+00              nan]\n",
      " [ -9.59096000e-03  -2.20083000e-05              nan]\n",
      " [ -2.97854200e-03   1.89350000e-06              nan]\n",
      " [ -2.22586700e-03   1.22093200e-03              nan]\n",
      " [ -2.96236290e-02  -2.17045150e-02              nan]\n",
      " [ -2.64425610e-02  -1.65622310e-02              nan]\n",
      " [ -1.35316230e-02   0.00000000e+00              nan]\n",
      " [ -2.23128520e-02   0.00000000e+00              nan]\n",
      " [ -5.04178800e-03  -4.51443900e-03              nan]\n",
      " [ -7.03674700e-03  -6.08436400e-03              nan]\n",
      " [  7.90827400e-03  -1.60960100e-03              nan]\n",
      " [  6.33658100e-03  -3.03963700e-03              nan]\n",
      " [  3.79744480e-02   3.62949920e-02              nan]\n",
      " [  9.74042900e-03   0.00000000e+00              nan]\n",
      " [  2.06052270e-02   4.27628200e-03              nan]\n",
      " [ -6.76350900e-03  -2.26260910e-02              nan]\n",
      " [  1.52987430e-02   3.90847600e-03              nan]\n",
      " [  9.42905100e-03   0.00000000e+00              nan]\n",
      " [ -1.91861850e-02  -6.15300700e-03              nan]\n",
      " [ -3.07714200e-02  -8.95701300e-03              nan]\n",
      " [  4.53938000e-04   4.82842000e-04              nan]\n",
      " [ -4.53938000e-04   0.00000000e+00              nan]\n",
      " [  2.11009060e-02   1.10845860e-02              nan]\n",
      " [  9.87466300e-03   0.00000000e+00              nan]\n",
      " [  6.01625400e-03   3.83835300e-03              nan]\n",
      " [  1.28216050e-02   2.58273100e-03              nan]\n",
      " [  1.68273900e-02   0.00000000e+00              nan]\n",
      " [  4.61190300e-03  -1.17491240e-02              nan]\n",
      " [  2.96005120e-02   1.77118000e-02              nan]\n",
      " [ -8.53180700e-02  -9.52455660e-02              nan]\n",
      " [ -2.23555920e-02  -7.79880400e-03              nan]\n",
      " [ -3.63866330e-02  -1.30486160e-02              nan]\n",
      " [  7.96007200e-03   9.51258600e-03              nan]\n",
      " [ -5.16687300e-03  -3.18932500e-03              nan]\n",
      " [  8.49271000e-03   0.00000000e+00              nan]\n",
      " [  8.67201500e-03   3.20962000e-04              nan]\n",
      " [ -7.42056200e-03  -8.07485300e-03              nan]\n",
      " [  1.26258780e-02   3.91061400e-03              nan]\n",
      " [  8.09827000e-03  -7.20551000e-03              nan]\n",
      " [  1.48374170e-02   0.00000000e+00              nan]\n",
      " [  1.03651020e-02   0.00000000e+00              nan]\n",
      " [  2.27153860e-02   1.43115000e-02              nan]\n",
      " [ -7.32524500e-03   8.40068000e-04              nan]\n",
      " [ -1.15383570e-02   5.40818500e-03              nan]\n",
      " [ -7.43805800e-03  -1.22770190e-02              nan]\n",
      " [  2.72843940e-02   2.28704670e-02              nan]\n",
      " [  2.01600900e-02   5.27590500e-03              nan]\n",
      " [ -2.12586900e-03  -1.68683970e-02              nan]\n",
      " [ -6.86630100e-02  -7.57087760e-02              nan]\n",
      " [  6.42412200e-03  -8.68261700e-03              nan]\n",
      " [  2.13299620e-02  -3.65293000e-04              nan]\n",
      " [  2.30742760e-02   1.84538400e-03              nan]\n",
      " [  2.62100900e-03  -1.41355680e-02              nan]\n",
      " [  1.51606540e-02   3.65293000e-04              nan]]\n",
      "[[-0.01654387 -0.03647647 -0.01983673 -0.0189582  -0.00986189 -0.0031682\n",
      "  -0.01762993 -0.00959096 -0.00297854 -0.00222587 -0.02962363 -0.02644256]\n",
      " [-0.01353162 -0.02231285 -0.00504179 -0.00703675  0.00790827  0.00633658\n",
      "   0.03797445  0.00974043  0.02060523 -0.00676351  0.01529874  0.00942905]\n",
      " [-0.01918619 -0.03077142  0.00045394 -0.00045394  0.02110091  0.00987466\n",
      "   0.00601625  0.0128216   0.01682739  0.0046119   0.02960051 -0.08531807]\n",
      " [-0.02235559 -0.03638663  0.00796007 -0.00516687  0.00849271  0.00867201\n",
      "  -0.00742056  0.01262588  0.00809827  0.01483742  0.0103651   0.02271539]\n",
      " [-0.00732525 -0.01153836 -0.00743806  0.02728439  0.02016009 -0.00212587\n",
      "  -0.06866301  0.00642412  0.02132996  0.02307428  0.00262101  0.01516065]]\n",
      "[[  1.62971290e-02   5.14576200e-03   0.00000000e+00   1.30356700e-03\n",
      "   -7.03872000e-05   6.76495900e-03   0.00000000e+00  -2.20083000e-05\n",
      "    1.89350000e-06   1.22093200e-03  -2.17045150e-02  -1.65622310e-02]\n",
      " [  0.00000000e+00   0.00000000e+00  -4.51443900e-03  -6.08436400e-03\n",
      "   -1.60960100e-03  -3.03963700e-03   3.62949920e-02   0.00000000e+00\n",
      "    4.27628200e-03  -2.26260910e-02   3.90847600e-03   0.00000000e+00]\n",
      " [ -6.15300700e-03  -8.95701300e-03   4.82842000e-04   0.00000000e+00\n",
      "    1.10845860e-02   0.00000000e+00   3.83835300e-03   2.58273100e-03\n",
      "    0.00000000e+00  -1.17491240e-02   1.77118000e-02  -9.52455660e-02]\n",
      " [ -7.79880400e-03  -1.30486160e-02   9.51258600e-03  -3.18932500e-03\n",
      "    0.00000000e+00   3.20962000e-04  -8.07485300e-03   3.91061400e-03\n",
      "   -7.20551000e-03   0.00000000e+00   0.00000000e+00   1.43115000e-02]\n",
      " [  8.40068000e-04   5.40818500e-03  -1.22770190e-02   2.28704670e-02\n",
      "    5.27590500e-03  -1.68683970e-02  -7.57087760e-02  -8.68261700e-03\n",
      "   -3.65293000e-04   1.84538400e-03  -1.41355680e-02   3.65293000e-04]]\n"
     ]
    },
    {
     "data": {
      "image/png": "[encoded data removed]",
      "text/plain": [
       "<matplotlib.figure.Figure at 0x109d85d10>"
      ]
     },
     "metadata": {},
     "output_type": "display_data"
    }
   ],
   "source": [
    "#open raw data file\n",
    "data_file = open('/Users/markfang/Dropbox/UCSD Grad work/RNA-Yeo Lab/ipython test data/before after polish heatmap 2.csv', 'rU')\n",
    "data_table = np.genfromtxt(data_file, delimiter=',')\n",
    "\n",
    "print(data_table)\n",
    "\n",
    "before_table = data_table[:, 0]\n",
    "#print(before_table)\n",
    "after_table = data_table[:, 1]\n",
    "\n",
    "before_table = np.reshape(before_table, (5, 12), order = 'C')\n",
    "after_table = np.reshape(after_table, (5, 12), order = 'C')\n",
    "\n",
    "print(before_table)\n",
    "print(after_table)\n",
    "\n",
    "#ax1 = sns.heatmap(before_table)\n",
    "ax2 = sns.heatmap(after_table)"
   ]
  },
  {
   "cell_type": "code",
   "execution_count": 28,
   "metadata": {
    "collapsed": false
   },
   "outputs": [
    {
     "name": "stdout",
     "output_type": "stream",
     "text": [
      "[[ 0.38 -0.03  1.1  -0.23 -0.35 -0.58 -1.63 -1.57 -1.18  1.3 ]\n",
      " [ 0.9   1.37 -1.33 -1.97 -0.66  0.18  0.5   1.05  0.28  1.74]\n",
      " [-0.22 -0.91 -1.68 -0.89  0.24 -0.89  0.94  1.41 -2.37  0.86]\n",
      " [-2.24  0.4   1.22  0.06 -1.28 -0.59 -0.26 -0.18 -0.2  -0.11]\n",
      " [ 0.21 -1.21 -0.24  1.52 -0.38 -0.44  1.08 -2.56  1.18 -0.63]]\n",
      "[[-10  -8  -6  -4  -2   0   2   4   6   8]]\n",
      "[[ -9.62  -8.03  -4.9   -4.23  -2.35  -0.58   0.37   2.43   4.82   9.3 ]\n",
      " [ -9.1   -6.63  -7.33  -5.97  -2.66   0.18   2.5    5.05   6.28   9.74]\n",
      " [-10.22  -8.91  -7.68  -4.89  -1.76  -0.89   2.94   5.41   3.63   8.86]\n",
      " [-12.24  -7.6   -4.78  -3.94  -3.28  -0.59   1.74   3.82   5.8    7.89]\n",
      " [ -9.79  -9.21  -6.24  -2.48  -2.38  -0.44   3.08   1.44   7.18   7.37]]\n",
      "[-9.79 -8.03 -6.24 -4.23 -2.38 -0.58  2.5   3.82  5.8   8.86]\n",
      "[[-9.79 -8.03 -6.24 -4.23 -2.38 -0.58  2.5   3.82  5.8   8.86]]\n"
     ]
    }
   ],
   "source": [
    "np.set_printoptions(precision = 2, suppress = True)\n",
    "\n",
    "uniform_data = np.random.normal(loc = 0, size = (5, 10))\n",
    "\n",
    "col_effects = range(-10, 10, 2)\n",
    "\n",
    "col_effects = np.asarray(col_effects)\n",
    "\n",
    "col_effects = col_effects[np.newaxis, :]\n",
    "\n",
    "print(uniform_data)\n",
    "print(col_effects)\n",
    "\n",
    "uniform_data_2 = uniform_data + col_effects\n",
    "print(uniform_data_2)\n",
    "\n",
    "the_col_medians = []\n",
    "\n",
    "for i in range(0, 10):\n",
    "    col_medians = np.median(uniform_data_2[:, i])\n",
    "    the_col_medians.append(col_medians)\n",
    "\n",
    "the_col_medians = np.asarray(the_col_medians)\n",
    "print(the_col_medians)\n",
    "\n",
    "uniform_data_3 = uniform_data_2 - the_col_medians\n",
    "\n",
    "the_col_medians = the_col_medians[np.newaxis, :]\n",
    "print(the_col_medians)\n",
    "\n",
    "\n",
    "\n",
    "\n",
    "\n",
    "\n"
   ]
  },
  {
   "cell_type": "code",
   "execution_count": 29,
   "metadata": {
    "collapsed": false
   },
   "outputs": [],
   "source": [
    "#with open ('/Users/markfang/Dropbox/UCSD Grad work/RNA-Yeo Lab/ipython test data/polish example.csv','w') as test_outputfile:\n",
    "    writer = csv.writer(test_outputfile, delimiter = ',')\n",
    "    writer.writerows(uniform_data)\n",
    "    writer.writerows(col_effects)\n",
    "    writer.writerows(uniform_data_2)\n",
    "    writer.writerows(the_col_medians)\n",
    "    writer.writerows(uniform_data_3)"
   ]
  },
  {
   "cell_type": "code",
   "execution_count": 30,
   "metadata": {
    "collapsed": false
   },
   "outputs": [
    {
     "data": {
      "text/plain": [
       "<matplotlib.axes._subplots.AxesSubplot at 0x10e046cd0>"
      ]
     },
     "execution_count": 30,
     "metadata": {},
     "output_type": "execute_result"
    },
    {
     "data": {
      "image/png": "[encoded data removed]",
      "text/plain": [
       "<matplotlib.figure.Figure at 0x10de56590>"
      ]
     },
     "metadata": {},
     "output_type": "display_data"
    }
   ],
   "source": [
    "f, (axa, axb, axc) = plt.subplots(3)\n",
    "\n",
    "\n",
    "sns.heatmap(uniform_data, ax = axa)\n",
    "sns.heatmap(uniform_data_2, ax = axb)\n",
    "sns.heatmap(uniform_data_3, ax = axc)"
   ]
  },
  {
   "cell_type": "code",
   "execution_count": null,
   "metadata": {
    "collapsed": true
   },
   "outputs": [],
   "source": []
  }
 ],
 "metadata": {
  "kernelspec": {
   "display_name": "Python 2",
   "language": "python",
   "name": "python2"
  },
  "language_info": {
   "codemirror_mode": {
    "name": "ipython",
    "version": 2
   },
   "file_extension": ".py",
   "mimetype": "text/x-python",
   "name": "python",
   "nbconvert_exporter": "python",
   "pygments_lexer": "ipython2",
   "version": "2.7.10"
  }
 },
 "nbformat": 4,
 "nbformat_minor": 0
}
