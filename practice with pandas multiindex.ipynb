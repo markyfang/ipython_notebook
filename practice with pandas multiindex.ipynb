{
 "cells": [
  {
   "cell_type": "code",
   "execution_count": 1,
   "metadata": {
    "collapsed": true
   },
   "outputs": [],
   "source": [
    "import pandas as pd\n",
    "import numpy as np"
   ]
  },
  {
   "cell_type": "code",
   "execution_count": 49,
   "metadata": {
    "collapsed": false
   },
   "outputs": [
    {
     "name": "stdout",
     "output_type": "stream",
     "text": [
      "[('A', 1), ('A', 2), ('A', 3), ('B', 1), ('B', 2), ('B', 3)]\n",
      "[('A', 1), ('A', 2), ('A', 3), ('B', 1), ('B', 2), ('B', 3)]\n",
      "('A', 'A', 'A', 'B', 'B', 'B')\n",
      "(1, 2, 3, 1, 2, 3)\n",
      "first dim  second dim\n",
      "A          1         \n",
      "           2         \n",
      "           3         \n",
      "B          1         \n",
      "           2         \n",
      "           3         \n",
      "first dim  second dim\n",
      "A          1             0.378311\n",
      "           2            -0.585164\n",
      "           3             0.841408\n",
      "B          1            -0.497312\n",
      "           2            -0.627165\n",
      "           3            -0.617975\n",
      "dtype: float64\n"
     ]
    },
    {
     "data": {
      "text/html": [
       "<div style=\"max-height:1000px;max-width:1500px;overflow:auto;\">\n",
       "<table border=\"1\" class=\"dataframe\">\n",
       "  <thead>\n",
       "    <tr style=\"text-align: right;\">\n",
       "      <th></th>\n",
       "      <th></th>\n",
       "      <th>first repl</th>\n",
       "      <th>second repl</th>\n",
       "    </tr>\n",
       "    <tr>\n",
       "      <th>first dim</th>\n",
       "      <th>second dim</th>\n",
       "      <th></th>\n",
       "      <th></th>\n",
       "    </tr>\n",
       "  </thead>\n",
       "  <tbody>\n",
       "    <tr>\n",
       "      <th rowspan=\"3\" valign=\"top\">A</th>\n",
       "      <th>1</th>\n",
       "      <td> 1.417212</td>\n",
       "      <td>-0.079485</td>\n",
       "    </tr>\n",
       "    <tr>\n",
       "      <th>2</th>\n",
       "      <td>-0.641592</td>\n",
       "      <td> 0.998634</td>\n",
       "    </tr>\n",
       "    <tr>\n",
       "      <th>3</th>\n",
       "      <td> 0.152960</td>\n",
       "      <td>-0.121344</td>\n",
       "    </tr>\n",
       "    <tr>\n",
       "      <th rowspan=\"3\" valign=\"top\">B</th>\n",
       "      <th>1</th>\n",
       "      <td>-0.420938</td>\n",
       "      <td> 0.626597</td>\n",
       "    </tr>\n",
       "    <tr>\n",
       "      <th>2</th>\n",
       "      <td> 0.897611</td>\n",
       "      <td>-0.389639</td>\n",
       "    </tr>\n",
       "    <tr>\n",
       "      <th>3</th>\n",
       "      <td>-0.438375</td>\n",
       "      <td>-1.365556</td>\n",
       "    </tr>\n",
       "  </tbody>\n",
       "</table>\n",
       "</div>"
      ],
      "text/plain": [
       "                      first repl  second repl\n",
       "first dim second dim                         \n",
       "A         1             1.417212    -0.079485\n",
       "          2            -0.641592     0.998634\n",
       "          3             0.152960    -0.121344\n",
       "B         1            -0.420938     0.626597\n",
       "          2             0.897611    -0.389639\n",
       "          3            -0.438375    -1.365556"
      ]
     },
     "execution_count": 49,
     "metadata": {},
     "output_type": "execute_result"
    }
   ],
   "source": [
    "arr_a = ['A','A','A','B','B','B']\n",
    "arr_b = [1,2,3,1,2,3]\n",
    "\n",
    "#zipping\n",
    "zipper = zip(arr_a, arr_b)\n",
    "print(zipper)\n",
    "\n",
    "zipped = list(zipper)\n",
    "print(zipped)\n",
    "\n",
    "#unzipping\n",
    "a, b = zip(*zipper)\n",
    "print(a)\n",
    "print(b)\n",
    "\n",
    "indices = pd.MultiIndex.from_tuples(zipper, names = ['first dim', 'second dim'])\n",
    "print(index)\n",
    "\n",
    "eg = pd.Series(np.random.randn(6), index = indices)\n",
    "print(eg)\n",
    "\n",
    "df = pd.DataFrame(np.random.randn(6, 2), index = indices, columns = ['first repl', 'second repl'])\n",
    "\n",
    "df  # This is the dataframe we have generated"
   ]
  },
  {
   "cell_type": "code",
   "execution_count": null,
   "metadata": {
    "collapsed": true
   },
   "outputs": [],
   "source": []
  }
 ],
 "metadata": {
  "kernelspec": {
   "display_name": "Python 2",
   "language": "python",
   "name": "python2"
  },
  "language_info": {
   "codemirror_mode": {
    "name": "ipython",
    "version": 2
   },
   "file_extension": ".py",
   "mimetype": "text/x-python",
   "name": "python",
   "nbconvert_exporter": "python",
   "pygments_lexer": "ipython2",
   "version": "2.7.10"
  }
 },
 "nbformat": 4,
 "nbformat_minor": 0
}
