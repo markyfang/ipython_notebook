{
 "cells": [
  {
   "cell_type": "code",
   "execution_count": 30,
   "metadata": {
    "collapsed": false
   },
   "outputs": [
    {
     "name": "stdout",
     "output_type": "stream",
     "text": [
      "[[ 65.2  90.1  94.6]\n",
      " [ 63.4  88.3  93.7]\n",
      " [ 57.   82.7  88.3]\n",
      " [ 46.1  70.8  76.4]\n",
      " [ 35.8  58.4  64.2]\n",
      " [ 28.4  52.1  57.1]\n",
      " [ 25.3  49.7  55.3]]\n",
      "63.9476190476\n",
      "[[  1.25238095  26.15238095  30.65238095]\n",
      " [  0.54761905  24.35238095  29.75238095]\n",
      " [  6.94761905  18.75238095  24.35238095]\n",
      " [ 17.84761905   6.85238095  12.45238095]\n",
      " [ 28.14761905   5.54761905   0.25238095]\n",
      " [ 35.54761905  11.84761905   6.84761905]\n",
      " [ 38.64761905  14.24761905   8.64761905]]\n",
      "[[ 65.2  90.1  94.6]\n",
      " [ 63.4  88.3  93.7]\n",
      " [ 57.   82.7  88.3]\n",
      " [ 46.1  70.8  76.4]\n",
      " [ 35.8  58.4  64.2]\n",
      " [ 28.4  52.1  57.1]\n",
      " [ 25.3  49.7  55.3]]\n",
      "[[ 65.2  90.1  94.6]\n",
      " [ 63.4  88.3  93.7]\n",
      " [ 57.   82.7  88.3]\n",
      " [ 46.1  70.8  76.4]\n",
      " [ 35.8  58.4  64.2]\n",
      " [ 28.4  52.1  57.1]\n",
      " [ 25.3  49.7  55.3]]\n",
      "63.4\n",
      "[[ 32.6   45.05  47.3 ]\n",
      " [ 31.7   44.15  46.85]\n",
      " [ 28.5   41.35  44.15]\n",
      " [ 23.05  35.4   38.2 ]\n",
      " [ 17.9   29.2   32.1 ]\n",
      " [ 14.2   26.05  28.55]\n",
      " [ 12.65  24.85  27.65]]\n"
     ]
    }
   ],
   "source": [
    "import numpy as np\n",
    "import csv\n",
    "#with open('/Users/markfang/Dropbox/UCSD Grad work/RNA-Yeo Lab/Python scripts/ArizonaTmp.csv', 'rU') as data_file:\n",
    "data_file = open('/Users/markfang/Dropbox/UCSD Grad work/RNA-Yeo Lab/Python scripts/ArizonaTmp.csv', 'rU')\n",
    "data_table = np.genfromtxt(data_file, delimiter=\",\")\n",
    "print(data_table)\n",
    "avg = np.average(data_table)\n",
    "print(avg)\n",
    "print(np.absolute(data_table - avg))\n",
    "veca = np.zeros(3)\n",
    "vecb = np.zeros(7)\n",
    "vecb = vecb[:,np.newaxis]\n",
    "print(data_table - veca)\n",
    "print(data_table - vecb)\n",
    "\n",
    "print(np.median(data_table))\n",
    "print(data_table / 2)"
   ]
  },
  {
   "cell_type": "code",
   "execution_count": null,
   "metadata": {
    "collapsed": true
   },
   "outputs": [],
   "source": []
  },
  {
   "cell_type": "code",
   "execution_count": null,
   "metadata": {
    "collapsed": true
   },
   "outputs": [],
   "source": []
  }
 ],
 "metadata": {
  "kernelspec": {
   "display_name": "Python 2",
   "language": "python",
   "name": "python2"
  },
  "language_info": {
   "codemirror_mode": {
    "name": "ipython",
    "version": 2
   },
   "file_extension": ".py",
   "mimetype": "text/x-python",
   "name": "python",
   "nbconvert_exporter": "python",
   "pygments_lexer": "ipython2",
   "version": "2.7.9"
  }
 },
 "nbformat": 4,
 "nbformat_minor": 0
}
